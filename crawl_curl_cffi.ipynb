{
  "cells": [
    {
      "cell_type": "code",
      "execution_count": 11,
      "metadata": {
        "id": "8gUC0RucUCOC"
      },
      "outputs": [],
      "source": [
        "\n",
        "import numpy as np\n",
        "import pandas as pd\n",
        "\n",
        "\n",
        "from tqdm import tqdm\n",
        "from tqdm.notebook import tqdm\n",
        "from time import sleep\n",
        "from random import randint\n",
        "\n",
        "from curl_cffi import requests\n",
        "from bs4 import BeautifulSoup\n",
        "from selenium import webdriver\n",
        "from selenium.webdriver.common.by import By\n",
        "from selenium.common.exceptions import NoSuchElementException,StaleElementReferenceException\n",
        "from selenium.webdriver.chrome.options import Options\n",
        "import re\n",
        "\n",
        "from pathlib import Path\n",
        "from unidecode import unidecode\n",
        "import os\n",
        "\n",
        "from dotenv import load_dotenv\n",
        "load_dotenv()\n",
        "\n",
        "local_path = os.getenv('RAW_PATH')\n",
        "query_crawl = os.getenv('QUERY_CRAWL_PATH')"
      ]
    },
    {
      "cell_type": "markdown",
      "metadata": {},
      "source": [
        "## Hàm lấy danh mục"
      ]
    },
    {
      "cell_type": "markdown",
      "metadata": {},
      "source": [
        "### Danh mục parent - c1"
      ]
    },
    {
      "cell_type": "code",
      "execution_count": 2,
      "metadata": {},
      "outputs": [],
      "source": [
        "# Lấy tất cả các danh mục cha - danh mục parent\n",
        "def crawl_all_categories_c1 ():\n",
        "\n",
        "  url = 'https://www.fahasa.com/'\n",
        "\n",
        "  response = requests.get(url, impersonate='chrome')\n",
        "\n",
        "  soup = BeautifulSoup(response.content, 'html.parser')\n",
        "\n",
        "  cate_books = soup.find_all('li', class_ = ['parent', 'dropdown' , 'parent dropdown aligned-left'])\n",
        "  json_categories = []\n",
        "  for cate in cate_books:\n",
        "    title = cate.find('a')\n",
        "    category = {}\n",
        "    category['Tên danh mục c1'] = title.get_text()\n",
        "    category['Liên kết'] = title.attrs['href']\n",
        "    json_categories.append(category)\n",
        "\n",
        "  df_categories = pd.json_normalize(json_categories)\n",
        "  return df_categories"
      ]
    },
    {
      "cell_type": "markdown",
      "metadata": {},
      "source": [
        "### Danh mục child - c2\n"
      ]
    },
    {
      "cell_type": "code",
      "execution_count": 1,
      "metadata": {},
      "outputs": [],
      "source": [
        "#Lấy tất cả các danh mục cấp 2 - danh mục con\n",
        "def crawl_all_categories_c2(category_name_c1, category_link_c1):\n",
        "\n",
        "\n",
        "  url = category_link_c1\n",
        "\n",
        "  response = requests.get(url, impersonate='chrome')\n",
        "\n",
        "  soup = BeautifulSoup(response.content, 'html.parser')\n",
        "\n",
        "\n",
        "  cate_books = soup.find_all('ol', id = 'children-categories')\n",
        "  json_categories = []\n",
        "  for cate in cate_books:\n",
        "    title = cate.find_all('a')\n",
        "    for i in title:\n",
        "        category = {}\n",
        "        category['Tên danh mục c1'] = category_name_c1\n",
        "        category['Tên danh mục c2'] = i.get_text()\n",
        "        category['Liên kết'] = i.attrs['href']\n",
        "        category['Mã danh mục'] = i.attrs['cat_id']\n",
        "        json_categories.append(category)\n",
        "\n",
        "  df_categories_c2 = pd.json_normalize(json_categories)\n",
        "  return df_categories_c2"
      ]
    },
    {
      "cell_type": "markdown",
      "metadata": {},
      "source": [
        "---"
      ]
    },
    {
      "cell_type": "markdown",
      "metadata": {},
      "source": [
        "## Craw dữ liệu"
      ]
    },
    {
      "cell_type": "markdown",
      "metadata": {},
      "source": [
        "### Hàm crawl comments thông qua selenium"
      ]
    },
    {
      "cell_type": "code",
      "execution_count": 5,
      "metadata": {},
      "outputs": [],
      "source": [
        "def crawl_comments_selenium(product_link, product_id):\n",
        "    \n",
        "    chrome_options = Options()\n",
        "    chrome_options.add_argument(\"--headless\") \n",
        "    chrome_options.add_argument(\"--no-sandbox\")  \n",
        "    chrome_options.add_argument(\"--disable-dev-shm-usage\")\n",
        "    chrome_options.add_argument(\"--disable-notifications\")\n",
        "    \n",
        "    driver = webdriver.Chrome(options=chrome_options)\n",
        "    \n",
        "    driver.get(product_link)\n",
        "    # cần refresh lại 1 lần trước khi scroll xuống do get lần đầu phần comment không laod\n",
        "    driver.refresh()\n",
        "\n",
        "    #scroll tới cuối trang để load phần comments\n",
        "    driver.execute_script(\"window.scrollTo(0, document.body.scrollHeight);\")\n",
        "\n",
        "    # chờ 2-5s để load phần comment\n",
        "    sleep(randint(2, 5))\n",
        "\n",
        "    comments_of_product = []\n",
        "\n",
        "    while True:\n",
        "        try:\n",
        "            #try catch để tránh trường hợp không có comment\n",
        "            comments = driver.find_element(By.CLASS_NAME, 'comment_list').find_elements(By.TAG_NAME, 'li')\n",
        "        except NoSuchElementException:\n",
        "            driver.refresh()\n",
        "            continue    \n",
        "        for comment in comments:\n",
        "            try:\n",
        "                    content_comment = comment.text.split('\\n')\n",
        "                    dict_comment = {}\n",
        "                    # không cần validate vì input comment đã được validate không được null\n",
        "                    dict_comment['Mã sản phẩm'] = product_id\n",
        "\n",
        "                    dict_comment['Tên khách hàng'] = content_comment[0]\n",
        "\n",
        "                    dict_comment['Ngày'] = content_comment[1]\n",
        "\n",
        "                    dict_comment['Nội dung đánh giá'] = content_comment[2]\n",
        "\n",
        "                    comments_of_product.append(dict_comment)\n",
        "            except:\n",
        "                continue\n",
        "        #try catch để tránh trường hợp không có nút next\n",
        "        try:       \n",
        "            next_button = driver.find_element(By.CSS_SELECTOR, 'a[onclick=\"prodComment.Page_change(\\'next\\')\"]')\n",
        "            next_button.click()\n",
        "        except StaleElementReferenceException:\n",
        "            break\n",
        "        except NoSuchElementException:\n",
        "            break\n",
        "    driver.quit()        \n",
        "    return comments_of_product"
      ]
    },
    {
      "cell_type": "markdown",
      "metadata": {},
      "source": [
        "### Trích xuất thông tin sản phẩm"
      ]
    },
    {
      "cell_type": "code",
      "execution_count": 10,
      "metadata": {},
      "outputs": [],
      "source": [
        "\n",
        "def extract_product(product_link, category_id):\n",
        "\n",
        "    response = requests.get(product_link, impersonate='chrome')\n",
        "    \n",
        "    soup = BeautifulSoup(response.content, 'html.parser')\n",
        "\n",
        "    product = {}\n",
        "\n",
        "    comments_of_product = []\n",
        "    product['Liên kết'] = product_link\n",
        "\n",
        "    product_id_tag = soup.find('td', class_ ='data_sku')\n",
        "    if product_id_tag:\n",
        "        product_id = product_id_tag.get_text()\n",
        "        product['Mã sản phẩm'] = product_id.strip()\n",
        "    else:\n",
        "        product['Mã sản phẩm'] = np.nan\n",
        "\n",
        "    title_tag = soup.find('h1')\n",
        "    product['Tên sản phẩm'] = title_tag.get_text().strip() if title_tag else np.nan\n",
        "\n",
        "    product['Mã danh mục'] = category_id\n",
        "\n",
        "    price_tag = soup.find('span', class_='price')\n",
        "    product['Giá'] = price_tag.get_text().split('\\xa0đ')[0].strip() if price_tag else np.nan\n",
        "\n",
        "    old_price_tag = soup.find('p', class_='old-price')\n",
        "    product['Giá Thị Trường'] = old_price_tag.find('span' , class_ = 'price').get_text().split('\\xa0đ')[0].strip() if old_price_tag else np.nan\n",
        "\n",
        "    sold_tag = soup.find('div', class_='product-view-qty-num')\n",
        "    product['Số sản phẩm đã bán'] = sold_tag.get_text().split(' ')[2].strip() if sold_tag else np.nan\n",
        "\n",
        "    nxb_tag = soup.find('td', class_='data_publisher')\n",
        "    product['Nhà xuất bản'] = nxb_tag.get_text().strip() if nxb_tag else np.nan\n",
        "\n",
        "    author_tag = soup.find('td', class_='data_author')\n",
        "    product['Tác giả'] = author_tag.get_text().strip() if author_tag else np.nan\n",
        "\n",
        "    qty_page_tag = soup.find('td', class_='data_qty_of_page')\n",
        "    product['Số trang'] = qty_page_tag.get_text().strip() if qty_page_tag else np.nan\n",
        "\n",
        "    # lấy đánh giá trung bình và số lượt đánh giá\n",
        "    try:\n",
        "        elems_review = soup.find('div', class_='product-view-tab-content-rating-chart')\n",
        "        avg_review_rate = elems_review.text.split()[0]\n",
        "        count_review = elems_review.text.split()[1]\n",
        "            # slicing phần tử trong item\n",
        "        try:\n",
        "            avg_review_rate = float(avg_review_rate[:-2]) \n",
        "        except:\n",
        "            avg_review_rate = np.nan\n",
        "        try:\n",
        "            count_review = int(count_review[1:]) \n",
        "        except:\n",
        "                count_review = np.nan\n",
        "    except AttributeError:\n",
        "        avg_review_rate = np.nan\n",
        "        count_review = np.nan\n",
        "    product['Đánh Giá trung bình'] = avg_review_rate \n",
        "    product['Số lượt đánh giá'] = count_review\n",
        "    \n",
        "    if product['Số lượt đánh giá'] != np.nan and product['Số lượt đánh giá'] > 0 and product['Số lượt đánh giá'] < 12:    \n",
        "        chrome_options = Options()\n",
        "        chrome_options.add_argument(\"--headless\") \n",
        "        chrome_options.add_argument(\"--no-sandbox\")  \n",
        "        chrome_options.add_argument(\"--disable-dev-shm-usage\")\n",
        "        chrome_options.add_argument(\"--disable-notifications\")\n",
        "        driver = webdriver.Chrome(options=chrome_options)\n",
        "\n",
        "        driver.get(product_link)\n",
        "        driver.refresh()\n",
        "\n",
        "        driver.execute_script(\"window.scrollTo(0, document.body.scrollHeight);\")\n",
        "\n",
        "        sleep(randint(2, 5))\n",
        "\n",
        "        comments = driver.find_element(By.CSS_SELECTOR, '.comment_list').find_elements(By.TAG_NAME, 'li')\n",
        "        for comment in comments:\n",
        "                try:\n",
        "                \n",
        "                    content_comment = comment.text.split('\\n')\n",
        "                    \n",
        "                    dict_comment = {}\n",
        "\n",
        "                    dict_comment['Mã sản phẩm'] = product['Mã sản phẩm']\n",
        "\n",
        "                    dict_comment['Tên khách hàng'] = content_comment[0]\n",
        "\n",
        "                    dict_comment['Ngày'] = content_comment[1]\n",
        "\n",
        "                    dict_comment['Nội dung đánh giá'] = content_comment[2]\n",
        "\n",
        "                    comments_of_product.append(dict_comment)\n",
        "                except :\n",
        "                    continue\n",
        "                \n",
        "        driver.quit()\n",
        "        return product, comments_of_product\n",
        "    \n",
        "    elif product['Số lượt đánh giá'] > 12:\n",
        "        comments_of_product = crawl_comments_selenium(product_link, product['Mã sản phẩm'] )\n",
        "        return product, comments_of_product\n",
        "    \n",
        "    return product, False"
      ]
    },
    {
      "cell_type": "markdown",
      "metadata": {},
      "source": [
        "### Lấy tất cả sản phẩm trong danh mục con - child"
      ]
    },
    {
      "cell_type": "code",
      "execution_count": 13,
      "metadata": {
        "id": "u2p_eU-paCHG"
      },
      "outputs": [],
      "source": [
        "def crawl_all_products_in_category(category_parent_name ,category_child_name, category_link, category_id):\n",
        "\n",
        "    json_products = []\n",
        "\n",
        "    json_comments = []\n",
        "\n",
        "    total_products = 0\n",
        "    #crawl nhiều nhất 10 pages mỗi page 48 sản phẩm co từng danh mục\n",
        "    # page = 1\n",
        "\n",
        "    # while True:\n",
        "    # Set lại total cho progress bar ứng với số page crawl\n",
        "    with tqdm(total=50,\n",
        "        dynamic_ncols=True,\n",
        "        unit=\" trang\",  # Đơn vị cho mỗi bước\n",
        "        colour=\"blue\",\n",
        "        desc=\"Page: \",\n",
        "        position=1\n",
        "        ) as pbar:\n",
        "        try:\n",
        "            #test chỉ crawl 2 trang\n",
        "\n",
        "            # for page in range(1, 10):\n",
        "            for page in range(1, 51):\n",
        "                sleep(randint(2, 4))\n",
        "                response = requests.get(f\"{category_link}{query_crawl}{page}\" , impersonate='chrome')\n",
        "\n",
        "                soup = BeautifulSoup(response.content, 'html.parser')\n",
        "\n",
        "                products = soup.find('ul', class_='products-grid').find_all('li')\n",
        "\n",
        "                if len(products) == 0 :\n",
        "                    break\n",
        "                else:\n",
        "                    for i in range(0,len(products)):\n",
        "                        # nếu series book thì bỏ qua\n",
        "                        product_link = products[i].find('a').attrs['href']\n",
        "                        series_book = r'(seriesbook\\-index\\-series)'\n",
        "                        match = re.search(series_book, str(product_link))\n",
        "                        if not match: \n",
        "                            \n",
        "                            dict_product, comments_of_product = extract_product(product_link, category_id)\n",
        "\n",
        "                            json_products.append(dict_product)\n",
        "                        else : \n",
        "                            continue\n",
        "                        if comments_of_product != False:\n",
        "                            \n",
        "                            json_comments.append(comments_of_product)\n",
        "\n",
        "                        # total_products+=1\n",
        "                pbar.update(1)\n",
        "        except:\n",
        "            \n",
        "            # nhảy vào khi hết trang trong range hoặc vòng while bị ngắt do hết page\n",
        "            print(f'Đã crawl hết trang hiện có trên danh mục {category_parent_name} - {category_child_name}')   \n",
        "\n",
        "        # page += 1\n",
        "\n",
        "    json_comments = sum(json_comments, [])\n",
        "\n",
        "    return json_products, json_comments"
      ]
    },
    {
      "cell_type": "markdown",
      "metadata": {},
      "source": [
        "## Tiến hành chạy crawl"
      ]
    },
    {
      "cell_type": "markdown",
      "metadata": {},
      "source": [
        "### 2 file csv chứa danh mục parent và child"
      ]
    },
    {
      "cell_type": "code",
      "execution_count": 8,
      "metadata": {
        "colab": {
          "base_uri": "https://localhost:8080/",
          "height": 356
        },
        "id": "H8kZ1XkU5Rv5",
        "outputId": "d434f8d2-96bf-41ea-dee7-f295ba838a04"
      },
      "outputs": [],
      "source": [
        "#Tiến hành gọi hàm crawl_all_categories_c1 và crawl_all_categories_c2 để lấy dữ liệu\n",
        "parent_categories = crawl_all_categories_c1()\n",
        "\n",
        "#drop index 5 vì không phải danh mục sách\n",
        "parent_categories = parent_categories.drop(index = 5).reset_index(drop = True)\n",
        "\n",
        "child_categories = []\n",
        "\n",
        "# Lấy các danh mục con của từng danh mục cha\n",
        "for parent_category , links in zip(parent_categories['Tên danh mục c1'], parent_categories['Liên kết']): \n",
        "    child_category = crawl_all_categories_c2(parent_category, links)\n",
        "    child_categories.append(child_category)\n",
        "\n",
        "# concat các frame chứa trong mảng thành 1 mảng hoàn chỉnh, tự động reset index bằng ignore_index\n",
        "child_categories = pd.concat(child_categories , ignore_index=True) \n",
        "\n",
        "# Xuất csv cho 2 frame chứa danh mục cấp parent và child\n",
        "parent_categories.to_csv('./data/raw/fahasa_parent_categories.csv', encoding='utf-8-sig', index=False)\n",
        "child_categories.to_csv('./data/raw/fahasa_child_categories.csv', encoding='utf-8-sig', index=False)\n"
      ]
    },
    {
      "cell_type": "code",
      "execution_count": 14,
      "metadata": {},
      "outputs": [
        {
          "data": {
            "application/vnd.jupyter.widget-view+json": {
              "model_id": "fcbfa3f994e647b8b1ef4b7311024f82",
              "version_major": 2,
              "version_minor": 0
            },
            "text/plain": [
              "Crawling:   0%|          | 0/56 [00:00<?, ? bước/s]"
            ]
          },
          "metadata": {},
          "output_type": "display_data"
        },
        {
          "data": {
            "application/vnd.jupyter.widget-view+json": {
              "model_id": "6056180fe93b428cbb5badac241f84c4",
              "version_major": 2,
              "version_minor": 0
            },
            "text/plain": [
              "Page:   0%|          | 0/50 [00:00<?, ? trang/s]"
            ]
          },
          "metadata": {},
          "output_type": "display_data"
        },
        {
          "name": "stdout",
          "output_type": "stream",
          "text": [
            "Đã lưu dữ liệu của danh mục Sách Trong Nước - Thiếu nhi vào thư mục data\\raw\\sach_trong_nuoc\\thieu_nhi\n"
          ]
        },
        {
          "data": {
            "application/vnd.jupyter.widget-view+json": {
              "model_id": "55df847a90544e4586f28afa7f9ef0fc",
              "version_major": 2,
              "version_minor": 0
            },
            "text/plain": [
              "Page:   0%|          | 0/50 [00:00<?, ? trang/s]"
            ]
          },
          "metadata": {},
          "output_type": "display_data"
        },
        {
          "name": "stdout",
          "output_type": "stream",
          "text": [
            "Đã lưu dữ liệu của danh mục Sách Trong Nước - Giáo khoa - Tham khảo vào thư mục data\\raw\\sach_trong_nuoc\\giao_khoa_-_tham_khao\n"
          ]
        },
        {
          "data": {
            "application/vnd.jupyter.widget-view+json": {
              "model_id": "5845733f7a5341d39f13b5f74977073e",
              "version_major": 2,
              "version_minor": 0
            },
            "text/plain": [
              "Page:   0%|          | 0/50 [00:00<?, ? trang/s]"
            ]
          },
          "metadata": {},
          "output_type": "display_data"
        },
        {
          "name": "stdout",
          "output_type": "stream",
          "text": [
            "Đã lưu dữ liệu của danh mục Sách Trong Nước - Văn học vào thư mục data\\raw\\sach_trong_nuoc\\van_hoc\n"
          ]
        },
        {
          "data": {
            "application/vnd.jupyter.widget-view+json": {
              "model_id": "d07c84cf47d143e09cb6d8e0211cd693",
              "version_major": 2,
              "version_minor": 0
            },
            "text/plain": [
              "Page:   0%|          | 0/50 [00:00<?, ? trang/s]"
            ]
          },
          "metadata": {},
          "output_type": "display_data"
        },
        {
          "name": "stdout",
          "output_type": "stream",
          "text": [
            "Đã lưu dữ liệu của danh mục Sách Trong Nước - Tâm lý - Kỹ năng sống vào thư mục data\\raw\\sach_trong_nuoc\\tam_ly_-_ky_nang_song\n"
          ]
        },
        {
          "data": {
            "application/vnd.jupyter.widget-view+json": {
              "model_id": "5485895b2b2a4937b3faff0fa5b67357",
              "version_major": 2,
              "version_minor": 0
            },
            "text/plain": [
              "Page:   0%|          | 0/50 [00:00<?, ? trang/s]"
            ]
          },
          "metadata": {},
          "output_type": "display_data"
        },
        {
          "name": "stdout",
          "output_type": "stream",
          "text": [
            "Đã lưu dữ liệu của danh mục Sách Trong Nước - Manga - Comic vào thư mục data\\raw\\sach_trong_nuoc\\manga_-_comic\n"
          ]
        },
        {
          "data": {
            "application/vnd.jupyter.widget-view+json": {
              "model_id": "239bdbcbda7a405f806c5021ae639536",
              "version_major": 2,
              "version_minor": 0
            },
            "text/plain": [
              "Page:   0%|          | 0/50 [00:00<?, ? trang/s]"
            ]
          },
          "metadata": {},
          "output_type": "display_data"
        },
        {
          "name": "stdout",
          "output_type": "stream",
          "text": [
            "Đã lưu dữ liệu của danh mục Sách Trong Nước - Sách học ngoại ngữ vào thư mục data\\raw\\sach_trong_nuoc\\sach_hoc_ngoai_ngu\n"
          ]
        },
        {
          "data": {
            "application/vnd.jupyter.widget-view+json": {
              "model_id": "ec1bc13c6af041f584f026a61a1ab9ff",
              "version_major": 2,
              "version_minor": 0
            },
            "text/plain": [
              "Page:   0%|          | 0/50 [00:00<?, ? trang/s]"
            ]
          },
          "metadata": {},
          "output_type": "display_data"
        },
        {
          "name": "stdout",
          "output_type": "stream",
          "text": [
            "Đã lưu dữ liệu của danh mục Sách Trong Nước - Kinh Tế vào thư mục data\\raw\\sach_trong_nuoc\\kinh_te\n"
          ]
        },
        {
          "data": {
            "application/vnd.jupyter.widget-view+json": {
              "model_id": "54f512803c7f4e858a507e8da35d9725",
              "version_major": 2,
              "version_minor": 0
            },
            "text/plain": [
              "Page:   0%|          | 0/50 [00:00<?, ? trang/s]"
            ]
          },
          "metadata": {},
          "output_type": "display_data"
        },
        {
          "name": "stdout",
          "output_type": "stream",
          "text": [
            "Đã lưu dữ liệu của danh mục Sách Trong Nước - Lịch Sử - Địa Lý - Tôn Giáo vào thư mục data\\raw\\sach_trong_nuoc\\lich_su_-_dia_ly_-_ton_giao\n"
          ]
        },
        {
          "data": {
            "application/vnd.jupyter.widget-view+json": {
              "model_id": "b84f6c5c298349ef8c381e7cb52d80ca",
              "version_major": 2,
              "version_minor": 0
            },
            "text/plain": [
              "Page:   0%|          | 0/50 [00:00<?, ? trang/s]"
            ]
          },
          "metadata": {},
          "output_type": "display_data"
        },
        {
          "name": "stdout",
          "output_type": "stream",
          "text": [
            "Đã crawl hết trang hiện có trên danh mục Sách Trong Nước - Khoa học kỹ thuật\n",
            "Đã lưu dữ liệu của danh mục Sách Trong Nước - Khoa học kỹ thuật vào thư mục data\\raw\\sach_trong_nuoc\\khoa_hoc_ky_thuat\n"
          ]
        },
        {
          "data": {
            "application/vnd.jupyter.widget-view+json": {
              "model_id": "bf99ac6220f546e3a1f5bca704d7fb3b",
              "version_major": 2,
              "version_minor": 0
            },
            "text/plain": [
              "Page:   0%|          | 0/50 [00:00<?, ? trang/s]"
            ]
          },
          "metadata": {},
          "output_type": "display_data"
        },
        {
          "name": "stdout",
          "output_type": "stream",
          "text": [
            "Đã lưu dữ liệu của danh mục Sách Trong Nước - Nuôi Dạy Con vào thư mục data\\raw\\sach_trong_nuoc\\nuoi_day_con\n"
          ]
        },
        {
          "data": {
            "application/vnd.jupyter.widget-view+json": {
              "model_id": "d3961c5bd92a406f96ff6544cffd20df",
              "version_major": 2,
              "version_minor": 0
            },
            "text/plain": [
              "Page:   0%|          | 0/50 [00:00<?, ? trang/s]"
            ]
          },
          "metadata": {},
          "output_type": "display_data"
        },
        {
          "name": "stdout",
          "output_type": "stream",
          "text": [
            "Đã lưu dữ liệu của danh mục Sách Trong Nước - Chính Trị - Pháp Lý - Triết Học vào thư mục data\\raw\\sach_trong_nuoc\\chinh_tri_-_phap_ly_-_triet_hoc\n"
          ]
        },
        {
          "data": {
            "application/vnd.jupyter.widget-view+json": {
              "model_id": "fddb5aa4514d4ff28317a15b196da8ee",
              "version_major": 2,
              "version_minor": 0
            },
            "text/plain": [
              "Page:   0%|          | 0/50 [00:00<?, ? trang/s]"
            ]
          },
          "metadata": {},
          "output_type": "display_data"
        },
        {
          "name": "stdout",
          "output_type": "stream",
          "text": [
            "Đã lưu dữ liệu của danh mục Sách Trong Nước - Tiểu Sử Hồi Ký vào thư mục data\\raw\\sach_trong_nuoc\\tieu_su_hoi_ky\n"
          ]
        },
        {
          "data": {
            "application/vnd.jupyter.widget-view+json": {
              "model_id": "5fc1deb02a6b4a7cb4b6551520609d9a",
              "version_major": 2,
              "version_minor": 0
            },
            "text/plain": [
              "Page:   0%|          | 0/50 [00:00<?, ? trang/s]"
            ]
          },
          "metadata": {},
          "output_type": "display_data"
        },
        {
          "name": "stdout",
          "output_type": "stream",
          "text": [
            "Đã lưu dữ liệu của danh mục Sách Trong Nước - Đam Mỹ vào thư mục data\\raw\\sach_trong_nuoc\\dam_my\n"
          ]
        },
        {
          "data": {
            "application/vnd.jupyter.widget-view+json": {
              "model_id": "0535ba055a314c72848ac950d1e51121",
              "version_major": 2,
              "version_minor": 0
            },
            "text/plain": [
              "Page:   0%|          | 0/50 [00:00<?, ? trang/s]"
            ]
          },
          "metadata": {},
          "output_type": "display_data"
        },
        {
          "name": "stdout",
          "output_type": "stream",
          "text": [
            "Đã lưu dữ liệu của danh mục Sách Trong Nước - Nữ Công Gia Chánh vào thư mục data\\raw\\sach_trong_nuoc\\nu_cong_gia_chanh\n"
          ]
        },
        {
          "data": {
            "application/vnd.jupyter.widget-view+json": {
              "model_id": "6d2c602b9bfd4b849e49373d825f06b5",
              "version_major": 2,
              "version_minor": 0
            },
            "text/plain": [
              "Page:   0%|          | 0/50 [00:00<?, ? trang/s]"
            ]
          },
          "metadata": {},
          "output_type": "display_data"
        },
        {
          "name": "stdout",
          "output_type": "stream",
          "text": [
            "Đã lưu dữ liệu của danh mục Sách Trong Nước - Văn Hóa - Nghệ Thuật - Du Lịch vào thư mục data\\raw\\sach_trong_nuoc\\van_hoa_-_nghe_thuat_-_du_lich\n"
          ]
        },
        {
          "data": {
            "application/vnd.jupyter.widget-view+json": {
              "model_id": "30a638f7775243299760f3a3d65ac759",
              "version_major": 2,
              "version_minor": 0
            },
            "text/plain": [
              "Page:   0%|          | 0/50 [00:00<?, ? trang/s]"
            ]
          },
          "metadata": {},
          "output_type": "display_data"
        },
        {
          "name": "stdout",
          "output_type": "stream",
          "text": [
            "Đã lưu dữ liệu của danh mục Sách Trong Nước - Phong Thủy - Kinh Dịch vào thư mục data\\raw\\sach_trong_nuoc\\phong_thuy_-_kinh_dich\n"
          ]
        },
        {
          "data": {
            "application/vnd.jupyter.widget-view+json": {
              "model_id": "4660797dcd11401fb999111724e28992",
              "version_major": 2,
              "version_minor": 0
            },
            "text/plain": [
              "Page:   0%|          | 0/50 [00:00<?, ? trang/s]"
            ]
          },
          "metadata": {},
          "output_type": "display_data"
        },
        {
          "name": "stdout",
          "output_type": "stream",
          "text": [
            "Đã lưu dữ liệu của danh mục Sách Trong Nước - Từ điển vào thư mục data\\raw\\sach_trong_nuoc\\tu_dien\n"
          ]
        },
        {
          "data": {
            "application/vnd.jupyter.widget-view+json": {
              "model_id": "d0e71eb8ca1d40378affca19983aac25",
              "version_major": 2,
              "version_minor": 0
            },
            "text/plain": [
              "Page:   0%|          | 0/50 [00:00<?, ? trang/s]"
            ]
          },
          "metadata": {},
          "output_type": "display_data"
        },
        {
          "name": "stdout",
          "output_type": "stream",
          "text": [
            "Đã lưu dữ liệu của danh mục Sách Trong Nước - Âm Nhạc - Mỹ Thuật - Thời Trang vào thư mục data\\raw\\sach_trong_nuoc\\am_nhac_-_my_thuat_-_thoi_trang\n"
          ]
        },
        {
          "data": {
            "application/vnd.jupyter.widget-view+json": {
              "model_id": "ae4d3ab054e84158a7163794db14b011",
              "version_major": 2,
              "version_minor": 0
            },
            "text/plain": [
              "Page:   0%|          | 0/50 [00:00<?, ? trang/s]"
            ]
          },
          "metadata": {},
          "output_type": "display_data"
        },
        {
          "name": "stdout",
          "output_type": "stream",
          "text": [
            "Đã lưu dữ liệu của danh mục Sách Trong Nước - Thể Dục Thể thao - Giải Trí vào thư mục data\\raw\\sach_trong_nuoc\\the_duc_the_thao_-_giai_tri\n"
          ]
        },
        {
          "data": {
            "application/vnd.jupyter.widget-view+json": {
              "model_id": "271668eb2a3b4ef188220e141e679b92",
              "version_major": 2,
              "version_minor": 0
            },
            "text/plain": [
              "Page:   0%|          | 0/50 [00:00<?, ? trang/s]"
            ]
          },
          "metadata": {},
          "output_type": "display_data"
        },
        {
          "name": "stdout",
          "output_type": "stream",
          "text": [
            "Đã lưu dữ liệu của danh mục Sách Trong Nước - Báo - Tạp Chí vào thư mục data\\raw\\sach_trong_nuoc\\bao_-_tap_chi\n"
          ]
        },
        {
          "data": {
            "application/vnd.jupyter.widget-view+json": {
              "model_id": "b8c1a47202b74db284f5fe8ec5f5b56c",
              "version_major": 2,
              "version_minor": 0
            },
            "text/plain": [
              "Page:   0%|          | 0/50 [00:00<?, ? trang/s]"
            ]
          },
          "metadata": {},
          "output_type": "display_data"
        },
        {
          "name": "stdout",
          "output_type": "stream",
          "text": [
            "Đã lưu dữ liệu của danh mục Sách Trong Nước - Giáo trình vào thư mục data\\raw\\sach_trong_nuoc\\giao_trinh\n"
          ]
        },
        {
          "data": {
            "application/vnd.jupyter.widget-view+json": {
              "model_id": "9e4b3ac73b2e4c56bafdfe04b4fdb921",
              "version_major": 2,
              "version_minor": 0
            },
            "text/plain": [
              "Page:   0%|          | 0/50 [00:00<?, ? trang/s]"
            ]
          },
          "metadata": {},
          "output_type": "display_data"
        },
        {
          "name": "stdout",
          "output_type": "stream",
          "text": [
            "Đã lưu dữ liệu của danh mục Sách Trong Nước - Làm Vườn - Thú Nuôi vào thư mục data\\raw\\sach_trong_nuoc\\lam_vuon_-_thu_nuoi\n"
          ]
        },
        {
          "data": {
            "application/vnd.jupyter.widget-view+json": {
              "model_id": "2ce297e8cb924aea991cf2da2159c84d",
              "version_major": 2,
              "version_minor": 0
            },
            "text/plain": [
              "Page:   0%|          | 0/50 [00:00<?, ? trang/s]"
            ]
          },
          "metadata": {},
          "output_type": "display_data"
        },
        {
          "name": "stdout",
          "output_type": "stream",
          "text": [
            "Đã lưu dữ liệu của danh mục Sách Trong Nước - Mystery Box vào thư mục data\\raw\\sach_trong_nuoc\\mystery_box\n"
          ]
        },
        {
          "data": {
            "application/vnd.jupyter.widget-view+json": {
              "model_id": "00da46e726a1436e85c351439e388f83",
              "version_major": 2,
              "version_minor": 0
            },
            "text/plain": [
              "Page:   0%|          | 0/50 [00:00<?, ? trang/s]"
            ]
          },
          "metadata": {},
          "output_type": "display_data"
        },
        {
          "name": "stdout",
          "output_type": "stream",
          "text": [
            "Đã lưu dữ liệu của danh mục FOREIGN BOOKS - Children's Books vào thư mục data\\raw\\foreign_books\\children's_books\n"
          ]
        },
        {
          "data": {
            "application/vnd.jupyter.widget-view+json": {
              "model_id": "83ebc4f68aeb499d9afd478abfbe808b",
              "version_major": 2,
              "version_minor": 0
            },
            "text/plain": [
              "Page:   0%|          | 0/50 [00:00<?, ? trang/s]"
            ]
          },
          "metadata": {},
          "output_type": "display_data"
        },
        {
          "name": "stdout",
          "output_type": "stream",
          "text": [
            "Đã lưu dữ liệu của danh mục FOREIGN BOOKS - Other languages vào thư mục data\\raw\\foreign_books\\other_languages\n"
          ]
        },
        {
          "data": {
            "application/vnd.jupyter.widget-view+json": {
              "model_id": "846328b4a7974fbb8198d0bd2e9bca80",
              "version_major": 2,
              "version_minor": 0
            },
            "text/plain": [
              "Page:   0%|          | 0/50 [00:00<?, ? trang/s]"
            ]
          },
          "metadata": {},
          "output_type": "display_data"
        },
        {
          "name": "stdout",
          "output_type": "stream",
          "text": [
            "Đã crawl hết trang hiện có trên danh mục FOREIGN BOOKS - Dictionaries & Languages\n",
            "Đã lưu dữ liệu của danh mục FOREIGN BOOKS - Dictionaries & Languages vào thư mục data\\raw\\foreign_books\\dictionaries_&_languages\n"
          ]
        },
        {
          "data": {
            "application/vnd.jupyter.widget-view+json": {
              "model_id": "c4319ec01baf4de6b56a7f687f6ea270",
              "version_major": 2,
              "version_minor": 0
            },
            "text/plain": [
              "Page:   0%|          | 0/50 [00:00<?, ? trang/s]"
            ]
          },
          "metadata": {},
          "output_type": "display_data"
        },
        {
          "name": "stdout",
          "output_type": "stream",
          "text": [
            "Đã lưu dữ liệu của danh mục FOREIGN BOOKS - Fiction vào thư mục data\\raw\\foreign_books\\fiction\n"
          ]
        },
        {
          "data": {
            "application/vnd.jupyter.widget-view+json": {
              "model_id": "44c6b2454aeb47638ea7e6e86dd53b98",
              "version_major": 2,
              "version_minor": 0
            },
            "text/plain": [
              "Page:   0%|          | 0/50 [00:00<?, ? trang/s]"
            ]
          },
          "metadata": {},
          "output_type": "display_data"
        },
        {
          "name": "stdout",
          "output_type": "stream",
          "text": [
            "Đã lưu dữ liệu của danh mục FOREIGN BOOKS - Business, Finance & Management vào thư mục data\\raw\\foreign_books\\business,_finance_&_management\n"
          ]
        },
        {
          "data": {
            "application/vnd.jupyter.widget-view+json": {
              "model_id": "e29d82d359bf4eb39ed7fc48fa6b7c3f",
              "version_major": 2,
              "version_minor": 0
            },
            "text/plain": [
              "Page:   0%|          | 0/50 [00:00<?, ? trang/s]"
            ]
          },
          "metadata": {},
          "output_type": "display_data"
        },
        {
          "name": "stdout",
          "output_type": "stream",
          "text": [
            "Đã lưu dữ liệu của danh mục FOREIGN BOOKS - Personal Development vào thư mục data\\raw\\foreign_books\\personal_development\n"
          ]
        },
        {
          "data": {
            "application/vnd.jupyter.widget-view+json": {
              "model_id": "297b9efe6bc64e3c9dffc35caf00dde7",
              "version_major": 2,
              "version_minor": 0
            },
            "text/plain": [
              "Page:   0%|          | 0/50 [00:00<?, ? trang/s]"
            ]
          },
          "metadata": {},
          "output_type": "display_data"
        },
        {
          "name": "stdout",
          "output_type": "stream",
          "text": [
            "Đã lưu dữ liệu của danh mục FOREIGN BOOKS - Biography vào thư mục data\\raw\\foreign_books\\biography\n"
          ]
        },
        {
          "data": {
            "application/vnd.jupyter.widget-view+json": {
              "model_id": "5bab0d67a57f4e70a11084f0552accae",
              "version_major": 2,
              "version_minor": 0
            },
            "text/plain": [
              "Page:   0%|          | 0/50 [00:00<?, ? trang/s]"
            ]
          },
          "metadata": {},
          "output_type": "display_data"
        },
        {
          "name": "stdout",
          "output_type": "stream",
          "text": [
            "Đã lưu dữ liệu của danh mục FOREIGN BOOKS - Education & Reference vào thư mục data\\raw\\foreign_books\\education_&_reference\n"
          ]
        },
        {
          "data": {
            "application/vnd.jupyter.widget-view+json": {
              "model_id": "fc77f2eba9a14dc8b889377ff96209ee",
              "version_major": 2,
              "version_minor": 0
            },
            "text/plain": [
              "Page:   0%|          | 0/50 [00:00<?, ? trang/s]"
            ]
          },
          "metadata": {},
          "output_type": "display_data"
        },
        {
          "name": "stdout",
          "output_type": "stream",
          "text": [
            "Đã lưu dữ liệu của danh mục FOREIGN BOOKS - Society & Social Sciences vào thư mục data\\raw\\foreign_books\\society_&_social_sciences\n"
          ]
        },
        {
          "data": {
            "application/vnd.jupyter.widget-view+json": {
              "model_id": "67620660740a4fe0a12b51f5db55d0cc",
              "version_major": 2,
              "version_minor": 0
            },
            "text/plain": [
              "Page:   0%|          | 0/50 [00:00<?, ? trang/s]"
            ]
          },
          "metadata": {},
          "output_type": "display_data"
        },
        {
          "name": "stdout",
          "output_type": "stream",
          "text": [
            "Đã lưu dữ liệu của danh mục FOREIGN BOOKS - Crafts and Hobbies vào thư mục data\\raw\\foreign_books\\crafts_and_hobbies\n"
          ]
        },
        {
          "data": {
            "application/vnd.jupyter.widget-view+json": {
              "model_id": "27e6b6af718d4a5eb849ea4d5bc7d413",
              "version_major": 2,
              "version_minor": 0
            },
            "text/plain": [
              "Page:   0%|          | 0/50 [00:00<?, ? trang/s]"
            ]
          },
          "metadata": {},
          "output_type": "display_data"
        },
        {
          "name": "stdout",
          "output_type": "stream",
          "text": [
            "Đã lưu dữ liệu của danh mục FOREIGN BOOKS - Mind, Body & Spirit vào thư mục data\\raw\\foreign_books\\mind,_body_&_spirit\n"
          ]
        },
        {
          "data": {
            "application/vnd.jupyter.widget-view+json": {
              "model_id": "7c4d79be39e04cc9b1ff4baff4f50fa4",
              "version_major": 2,
              "version_minor": 0
            },
            "text/plain": [
              "Page:   0%|          | 0/50 [00:00<?, ? trang/s]"
            ]
          },
          "metadata": {},
          "output_type": "display_data"
        },
        {
          "name": "stdout",
          "output_type": "stream",
          "text": [
            "Đã lưu dữ liệu của danh mục FOREIGN BOOKS - Health vào thư mục data\\raw\\foreign_books\\health\n"
          ]
        },
        {
          "data": {
            "application/vnd.jupyter.widget-view+json": {
              "model_id": "75c224d53b5e474fb612a6e54ab80584",
              "version_major": 2,
              "version_minor": 0
            },
            "text/plain": [
              "Page:   0%|          | 0/50 [00:00<?, ? trang/s]"
            ]
          },
          "metadata": {},
          "output_type": "display_data"
        },
        {
          "name": "stdout",
          "output_type": "stream",
          "text": [
            "Đã lưu dữ liệu của danh mục FOREIGN BOOKS - Science & Geography vào thư mục data\\raw\\foreign_books\\science_&_geography\n"
          ]
        },
        {
          "data": {
            "application/vnd.jupyter.widget-view+json": {
              "model_id": "c5ec894e40db4e5dba3fdb8b80bd25eb",
              "version_major": 2,
              "version_minor": 0
            },
            "text/plain": [
              "Page:   0%|          | 0/50 [00:00<?, ? trang/s]"
            ]
          },
          "metadata": {},
          "output_type": "display_data"
        },
        {
          "name": "stdout",
          "output_type": "stream",
          "text": [
            "Đã lưu dữ liệu của danh mục FOREIGN BOOKS - Food & Drink vào thư mục data\\raw\\foreign_books\\food_&_drink\n"
          ]
        },
        {
          "data": {
            "application/vnd.jupyter.widget-view+json": {
              "model_id": "0ab99868b1cc49de832a657cbf201407",
              "version_major": 2,
              "version_minor": 0
            },
            "text/plain": [
              "Page:   0%|          | 0/50 [00:00<?, ? trang/s]"
            ]
          },
          "metadata": {},
          "output_type": "display_data"
        },
        {
          "name": "stdout",
          "output_type": "stream",
          "text": [
            "Đã lưu dữ liệu của danh mục FOREIGN BOOKS - Computing vào thư mục data\\raw\\foreign_books\\computing\n"
          ]
        },
        {
          "data": {
            "application/vnd.jupyter.widget-view+json": {
              "model_id": "3e4cea68d6634642b2c31113472134a6",
              "version_major": 2,
              "version_minor": 0
            },
            "text/plain": [
              "Page:   0%|          | 0/50 [00:00<?, ? trang/s]"
            ]
          },
          "metadata": {},
          "output_type": "display_data"
        },
        {
          "name": "stdout",
          "output_type": "stream",
          "text": [
            "Đã lưu dữ liệu của danh mục FOREIGN BOOKS - Poetry & Drama vào thư mục data\\raw\\foreign_books\\poetry_&_drama\n"
          ]
        },
        {
          "data": {
            "application/vnd.jupyter.widget-view+json": {
              "model_id": "09c4212a8e8444808706193dfd2400e0",
              "version_major": 2,
              "version_minor": 0
            },
            "text/plain": [
              "Page:   0%|          | 0/50 [00:00<?, ? trang/s]"
            ]
          },
          "metadata": {},
          "output_type": "display_data"
        },
        {
          "name": "stdout",
          "output_type": "stream",
          "text": [
            "Đã lưu dữ liệu của danh mục FOREIGN BOOKS - Religion vào thư mục data\\raw\\foreign_books\\religion\n"
          ]
        },
        {
          "data": {
            "application/vnd.jupyter.widget-view+json": {
              "model_id": "a2b27556dd0d4891bd6c68b94840c5ff",
              "version_major": 2,
              "version_minor": 0
            },
            "text/plain": [
              "Page:   0%|          | 0/50 [00:00<?, ? trang/s]"
            ]
          },
          "metadata": {},
          "output_type": "display_data"
        },
        {
          "name": "stdout",
          "output_type": "stream",
          "text": [
            "Đã lưu dữ liệu của danh mục FOREIGN BOOKS - Technology & Engineering vào thư mục data\\raw\\foreign_books\\technology_&_engineering\n"
          ]
        },
        {
          "data": {
            "application/vnd.jupyter.widget-view+json": {
              "model_id": "0cce32182f384f4d858faf6a4a945eb9",
              "version_major": 2,
              "version_minor": 0
            },
            "text/plain": [
              "Page:   0%|          | 0/50 [00:00<?, ? trang/s]"
            ]
          },
          "metadata": {},
          "output_type": "display_data"
        },
        {
          "name": "stdout",
          "output_type": "stream",
          "text": [
            "Đã lưu dữ liệu của danh mục FOREIGN BOOKS - Art & Photography vào thư mục data\\raw\\foreign_books\\art_&_photography\n"
          ]
        },
        {
          "data": {
            "application/vnd.jupyter.widget-view+json": {
              "model_id": "7d9064e61fd54519852e1b9b771f9d98",
              "version_major": 2,
              "version_minor": 0
            },
            "text/plain": [
              "Page:   0%|          | 0/50 [00:00<?, ? trang/s]"
            ]
          },
          "metadata": {},
          "output_type": "display_data"
        },
        {
          "name": "stdout",
          "output_type": "stream",
          "text": [
            "Đã lưu dữ liệu của danh mục FOREIGN BOOKS - History & Archaeology vào thư mục data\\raw\\foreign_books\\history_&_archaeology\n"
          ]
        },
        {
          "data": {
            "application/vnd.jupyter.widget-view+json": {
              "model_id": "f6f71c34cb684e5b8f80ab3d05a0e603",
              "version_major": 2,
              "version_minor": 0
            },
            "text/plain": [
              "Page:   0%|          | 0/50 [00:00<?, ? trang/s]"
            ]
          },
          "metadata": {},
          "output_type": "display_data"
        },
        {
          "name": "stdout",
          "output_type": "stream",
          "text": [
            "Đã lưu dữ liệu của danh mục FOREIGN BOOKS - Graphic Novels, Anime & Manga vào thư mục data\\raw\\foreign_books\\graphic_novels,_anime_&_manga\n"
          ]
        },
        {
          "data": {
            "application/vnd.jupyter.widget-view+json": {
              "model_id": "27c806e537e24767ad649d23930b6fea",
              "version_major": 2,
              "version_minor": 0
            },
            "text/plain": [
              "Page:   0%|          | 0/50 [00:00<?, ? trang/s]"
            ]
          },
          "metadata": {},
          "output_type": "display_data"
        },
        {
          "name": "stdout",
          "output_type": "stream",
          "text": [
            "Đã lưu dữ liệu của danh mục FOREIGN BOOKS - Home & Garden vào thư mục data\\raw\\foreign_books\\home_&_garden\n"
          ]
        },
        {
          "data": {
            "application/vnd.jupyter.widget-view+json": {
              "model_id": "daa35438c14e464da986b4e0e59da8dd",
              "version_major": 2,
              "version_minor": 0
            },
            "text/plain": [
              "Page:   0%|          | 0/50 [00:00<?, ? trang/s]"
            ]
          },
          "metadata": {},
          "output_type": "display_data"
        },
        {
          "name": "stdout",
          "output_type": "stream",
          "text": [
            "Đã lưu dữ liệu của danh mục FOREIGN BOOKS - Romance vào thư mục data\\raw\\foreign_books\\romance\n"
          ]
        },
        {
          "data": {
            "application/vnd.jupyter.widget-view+json": {
              "model_id": "31607a67a1ba41679ab5d44eae1a76a4",
              "version_major": 2,
              "version_minor": 0
            },
            "text/plain": [
              "Page:   0%|          | 0/50 [00:00<?, ? trang/s]"
            ]
          },
          "metadata": {},
          "output_type": "display_data"
        },
        {
          "name": "stdout",
          "output_type": "stream",
          "text": [
            "Đã lưu dữ liệu của danh mục FOREIGN BOOKS - Natural History vào thư mục data\\raw\\foreign_books\\natural_history\n"
          ]
        },
        {
          "data": {
            "application/vnd.jupyter.widget-view+json": {
              "model_id": "756d1bd73afb41f38d454d81cd3ed1dc",
              "version_major": 2,
              "version_minor": 0
            },
            "text/plain": [
              "Page:   0%|          | 0/50 [00:00<?, ? trang/s]"
            ]
          },
          "metadata": {},
          "output_type": "display_data"
        },
        {
          "name": "stdout",
          "output_type": "stream",
          "text": [
            "Đã lưu dữ liệu của danh mục FOREIGN BOOKS - Science Fiction, Fantasy & Horror vào thư mục data\\raw\\foreign_books\\science_fiction,_fantasy_&_horror\n"
          ]
        },
        {
          "data": {
            "application/vnd.jupyter.widget-view+json": {
              "model_id": "34da2a4f6e2e4865b6db5c0851d2e973",
              "version_major": 2,
              "version_minor": 0
            },
            "text/plain": [
              "Page:   0%|          | 0/50 [00:00<?, ? trang/s]"
            ]
          },
          "metadata": {},
          "output_type": "display_data"
        },
        {
          "name": "stdout",
          "output_type": "stream",
          "text": [
            "Đã lưu dữ liệu của danh mục FOREIGN BOOKS - Medical vào thư mục data\\raw\\foreign_books\\medical\n"
          ]
        },
        {
          "data": {
            "application/vnd.jupyter.widget-view+json": {
              "model_id": "898225443b1043c289faa19cc072c9c4",
              "version_major": 2,
              "version_minor": 0
            },
            "text/plain": [
              "Page:   0%|          | 0/50 [00:00<?, ? trang/s]"
            ]
          },
          "metadata": {},
          "output_type": "display_data"
        },
        {
          "name": "stdout",
          "output_type": "stream",
          "text": [
            "Đã lưu dữ liệu của danh mục FOREIGN BOOKS - Stationery vào thư mục data\\raw\\foreign_books\\stationery\n"
          ]
        },
        {
          "data": {
            "application/vnd.jupyter.widget-view+json": {
              "model_id": "34128f79344d469db3c449560d197e53",
              "version_major": 2,
              "version_minor": 0
            },
            "text/plain": [
              "Page:   0%|          | 0/50 [00:00<?, ? trang/s]"
            ]
          },
          "metadata": {},
          "output_type": "display_data"
        },
        {
          "name": "stdout",
          "output_type": "stream",
          "text": [
            "Đã lưu dữ liệu của danh mục FOREIGN BOOKS - Reference vào thư mục data\\raw\\foreign_books\\reference\n"
          ]
        },
        {
          "data": {
            "application/vnd.jupyter.widget-view+json": {
              "model_id": "027ffcdedbe045c5a54532eefdcc2dd3",
              "version_major": 2,
              "version_minor": 0
            },
            "text/plain": [
              "Page:   0%|          | 0/50 [00:00<?, ? trang/s]"
            ]
          },
          "metadata": {},
          "output_type": "display_data"
        },
        {
          "name": "stdout",
          "output_type": "stream",
          "text": [
            "Đã lưu dữ liệu của danh mục FOREIGN BOOKS - Crime & Thriller vào thư mục data\\raw\\foreign_books\\crime_&_thriller\n"
          ]
        },
        {
          "data": {
            "application/vnd.jupyter.widget-view+json": {
              "model_id": "bcce044a86bf4ac08a3ac84420095d85",
              "version_major": 2,
              "version_minor": 0
            },
            "text/plain": [
              "Page:   0%|          | 0/50 [00:00<?, ? trang/s]"
            ]
          },
          "metadata": {},
          "output_type": "display_data"
        },
        {
          "name": "stdout",
          "output_type": "stream",
          "text": [
            "Đã lưu dữ liệu của danh mục FOREIGN BOOKS - Entertainment vào thư mục data\\raw\\foreign_books\\entertainment\n"
          ]
        },
        {
          "data": {
            "application/vnd.jupyter.widget-view+json": {
              "model_id": "77772d9588ca4dc3a0a541b831dc3041",
              "version_major": 2,
              "version_minor": 0
            },
            "text/plain": [
              "Page:   0%|          | 0/50 [00:00<?, ? trang/s]"
            ]
          },
          "metadata": {},
          "output_type": "display_data"
        },
        {
          "name": "stdout",
          "output_type": "stream",
          "text": [
            "Đã lưu dữ liệu của danh mục FOREIGN BOOKS - Sport vào thư mục data\\raw\\foreign_books\\sport\n"
          ]
        },
        {
          "data": {
            "application/vnd.jupyter.widget-view+json": {
              "model_id": "6f37cef577d741059d31fd865a7f966b",
              "version_major": 2,
              "version_minor": 0
            },
            "text/plain": [
              "Page:   0%|          | 0/50 [00:00<?, ? trang/s]"
            ]
          },
          "metadata": {},
          "output_type": "display_data"
        },
        {
          "name": "stdout",
          "output_type": "stream",
          "text": [
            "Đã lưu dữ liệu của danh mục FOREIGN BOOKS - Humour vào thư mục data\\raw\\foreign_books\\humour\n"
          ]
        },
        {
          "data": {
            "application/vnd.jupyter.widget-view+json": {
              "model_id": "41ab35c44b92474cac9ec6aaf91c389a",
              "version_major": 2,
              "version_minor": 0
            },
            "text/plain": [
              "Page:   0%|          | 0/50 [00:00<?, ? trang/s]"
            ]
          },
          "metadata": {},
          "output_type": "display_data"
        },
        {
          "name": "stdout",
          "output_type": "stream",
          "text": [
            "Đã lưu dữ liệu của danh mục FOREIGN BOOKS - Travel & Holiday Guides vào thư mục data\\raw\\foreign_books\\travel_&_holiday_guides\n"
          ]
        }
      ],
      "source": [
        "directory_paths = []\n",
        "# bỏ comment để chạy tất cả các danh mục con\n",
        "# crawl_categories = child_categories\n",
        "\n",
        "# ta sẽ chỉ crawl 2 danh mục sách trong dự án này tương đương 57 danh mục sp\n",
        "crawl_categories = child_categories[0:56]\n",
        "with tqdm(total=int(crawl_categories.shape[0]),\n",
        "        dynamic_ncols=True,\n",
        "        unit=\" bước\",  \n",
        "        colour=\"green\",\n",
        "        desc=\"Crawling: \",\n",
        "        position=0\n",
        "        ) as pbar:\n",
        "    for index in  range(0,int(crawl_categories.shape[0])) :        \n",
        "        #set tên danh mục c1 và c2 vào tiêu đề của progress bar\n",
        "        pbar.set_postfix({\"Danh Mục\": child_categories['Tên danh mục c1'].loc[index] + '-' + child_categories['Tên danh mục c2'].loc[index]})\n",
        "\n",
        "        category_c1_name = child_categories['Tên danh mục c1'].loc[index]\n",
        "        category_c2_name = child_categories['Tên danh mục c2'].loc[index]\n",
        "\n",
        "        category_link = child_categories['Liên kết'].loc[index]\n",
        "        category_id = child_categories['Mã danh mục'].loc[index]\n",
        "\n",
        "        json_products , json_comments = crawl_all_products_in_category(category_c1_name, category_c2_name, category_link, category_id)\n",
        "\n",
        "        df_products = pd.json_normalize(json_products)\n",
        "        df_comments = pd.json_normalize(json_comments)\n",
        "\n",
        "        directory_c1 = unidecode(category_c1_name.lower()).replace(' ','_')\n",
        "        directory_c2 = unidecode(category_c2_name.lower()).replace(' ','_')\n",
        "\n",
        "        directory_path = Path(f'{local_path}/{directory_c1}/{directory_c2}')\n",
        "\n",
        "        directory_path.mkdir(parents=True, exist_ok=True)\n",
        "        directory_paths.append(directory_path)\n",
        "\n",
        "        df_comments.to_csv(directory_path / 'comments.csv', encoding='utf-8-sig', index=False)\n",
        "        df_products.to_csv(directory_path / 'products.csv', encoding='utf-8-sig', index=False)\n",
        "        \n",
        "        pbar.write(f\"Đã lưu dữ liệu của danh mục {category_c1_name} - {category_c2_name} vào thư mục {directory_path}\")\n",
        "        pbar.update(1)\n",
        "        "
      ]
    },
    {
      "cell_type": "markdown",
      "metadata": {},
      "source": [
        "### Gộp các file csv của các danh mục"
      ]
    },
    {
      "cell_type": "markdown",
      "metadata": {},
      "source": [
        "#### Tạo mảng các path lưu trữ các file csv trong từng danh mục"
      ]
    },
    {
      "cell_type": "code",
      "execution_count": 15,
      "metadata": {},
      "outputs": [],
      "source": [
        "directory_paths = []\n",
        "for index in  range(0,child_categories.shape[0]):\n",
        "        # print('Crawling category:', child_categories['Tên danh mục c2'].loc[index ])\n",
        "        category_c1_name = child_categories['Tên danh mục c1'].loc[index]\n",
        "        category_c2_name = child_categories['Tên danh mục c2'].loc[index]\n",
        "\n",
        "        directory_c1 = unidecode(category_c1_name.lower()).replace(' ','_')\n",
        "        directory_c2 = unidecode(category_c2_name.lower()).replace(' ','_')\n",
        "\n",
        "        directory_path = Path(f'{local_path}/{directory_c1}/{directory_c2}')\n",
        "\n",
        "        directory_path.mkdir(parents=True, exist_ok=True)\n",
        "        directory_paths.append(directory_path)\n"
      ]
    },
    {
      "cell_type": "markdown",
      "metadata": {},
      "source": [
        "#### Hàm gộp csv"
      ]
    },
    {
      "cell_type": "code",
      "execution_count": 16,
      "metadata": {},
      "outputs": [],
      "source": [
        "def merged_csv(object):\n",
        "\n",
        "    df_merged = pd.DataFrame()\n",
        "    for path in directory_paths:\n",
        "        #Do chưa crawl đầy đủ nên có thể có trường hợp không có file csv\n",
        "        #Bỏ qua các trường hợp không có file csv\n",
        "        try:\n",
        "            df = pd.read_csv(path/f'{object}.csv')\n",
        "            df_merged = pd.concat([df_merged, df], ignore_index=True)\n",
        "        except:\n",
        "            continue\n",
        "    return df_merged"
      ]
    },
    {
      "cell_type": "markdown",
      "metadata": {},
      "source": [
        "#### Tiến hành gộp"
      ]
    },
    {
      "cell_type": "code",
      "execution_count": 17,
      "metadata": {},
      "outputs": [],
      "source": [
        "products_merged = merged_csv('products')\n",
        "products_merged.to_csv(f'{local_path}/fahasa_products.csv', encoding='utf-8-sig', index=False)\n",
        "\n",
        "comments_merged = merged_csv('comments')\n",
        "comments_merged.to_csv(f'{local_path}/fahasa_comments.csv', encoding='utf-8-sig', index=False)\n"
      ]
    }
  ],
  "metadata": {
    "colab": {
      "provenance": []
    },
    "kernelspec": {
      "display_name": "Python 3",
      "name": "python3"
    },
    "language_info": {
      "codemirror_mode": {
        "name": "ipython",
        "version": 3
      },
      "file_extension": ".py",
      "mimetype": "text/x-python",
      "name": "python",
      "nbconvert_exporter": "python",
      "pygments_lexer": "ipython3",
      "version": "3.12.5"
    }
  },
  "nbformat": 4,
  "nbformat_minor": 0
}
