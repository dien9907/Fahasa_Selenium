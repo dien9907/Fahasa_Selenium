{
 "cells": [
  {
   "cell_type": "markdown",
   "metadata": {},
   "source": [
    "## Import thư viện"
   ]
  },
  {
   "cell_type": "code",
   "execution_count": 1,
   "metadata": {},
   "outputs": [],
   "source": [
    "import pandas as pd\n",
    "import numpy as np\n",
    "import matplotlib.pyplot as plt\n",
    "import seaborn as sns\n",
    "import os\n",
    "%config InlineBackend.figure_format = 'retina'\n",
    "from pathlib import Path\n",
    "from dotenv import load_dotenv\n",
    "\n",
    "load_dotenv()\n",
    "raw_path = os.getenv('RAW_PATH')\n",
    "cleaned_path = os.getenv('CLEANED_PATH')"
   ]
  },
  {
   "cell_type": "markdown",
   "metadata": {},
   "source": [
    "## Import csv"
   ]
  },
  {
   "cell_type": "code",
   "execution_count": 2,
   "metadata": {},
   "outputs": [],
   "source": [
    "df_parent_categories = pd.read_csv(f'{raw_path}fahasha_parent_categories.csv')\n",
    "df_child_categories = pd.read_csv(f'{raw_path}fahasha_child_categories.csv')\n",
    "df_products = pd.read_csv(f'{raw_path}fahasha_products.csv')\n",
    "df_comments = pd.read_csv(f'{raw_path}fahasha_comments.csv')"
   ]
  },
  {
   "cell_type": "markdown",
   "metadata": {},
   "source": [
    "Hàm tóm tắt thông tin có trong dữ liệu"
   ]
  },
  {
   "cell_type": "code",
   "execution_count": 3,
   "metadata": {},
   "outputs": [
    {
     "name": "stdout",
     "output_type": "stream",
     "text": [
      "Dataframe có tất cả: 1772 hàng và 12 cột\n",
      "\n",
      "\n",
      "Kiểu dữ liệu:\n",
      "\n",
      "Liên kết                object\n",
      "Mã sản phẩm             object\n",
      "Tên sản phẩm            object\n",
      "Mã danh mục              int64\n",
      "Giá                     object\n",
      "Giá Thị Trường          object\n",
      "Số sản phẩm đã bán      object\n",
      "Nhà xuất bản            object\n",
      "Tác giả                 object\n",
      "Số trang                object\n",
      "Đánh Giá trung bình    float64\n",
      "Số lượt đánh giá         int64\n",
      "dtype: object \n",
      "\n",
      "\n",
      "Missing values:\n",
      "\n",
      "Liên kết                 0\n",
      "Mã sản phẩm              0\n",
      "Tên sản phẩm             0\n",
      "Mã danh mục              0\n",
      "Giá                      0\n",
      "Giá Thị Trường          56\n",
      "Số sản phẩm đã bán     301\n",
      "Nhà xuất bản             7\n",
      "Tác giả                 10\n",
      "Số trang                90\n",
      "Đánh Giá trung bình      0\n",
      "Số lượt đánh giá         0\n",
      "dtype: int64 \n",
      "\n",
      "\n",
      "Duplicated rows: 81\n"
     ]
    }
   ],
   "source": [
    "def summary_data(df):\n",
    "    print(f'Dataframe có tất cả: {df.shape[0]} hàng và {df.shape[1]} cột\\n\\n')\n",
    "    print(f'Kiểu dữ liệu:\\n\\n{df.dtypes} \\n\\n')\n",
    "    print(f'Missing values:\\n\\n{df.isnull().sum()} \\n\\n')\n",
    "    print('Duplicated rows:', df.duplicated().sum())\n",
    "summary_data(df_products)"
   ]
  },
  {
   "cell_type": "markdown",
   "metadata": {},
   "source": [
    "## Preprocessing\n"
   ]
  },
  {
   "cell_type": "code",
   "execution_count": 4,
   "metadata": {},
   "outputs": [],
   "source": [
    "# tạo 1 bản sao của df để tiến hành xử lý dữ liệu\n",
    "products = df_products.copy()"
   ]
  },
  {
   "cell_type": "markdown",
   "metadata": {},
   "source": [
    "### Tác Giả"
   ]
  },
  {
   "cell_type": "code",
   "execution_count": 5,
   "metadata": {},
   "outputs": [
    {
     "data": {
      "text/html": [
       "<div>\n",
       "<style scoped>\n",
       "    .dataframe tbody tr th:only-of-type {\n",
       "        vertical-align: middle;\n",
       "    }\n",
       "\n",
       "    .dataframe tbody tr th {\n",
       "        vertical-align: top;\n",
       "    }\n",
       "\n",
       "    .dataframe thead th {\n",
       "        text-align: right;\n",
       "    }\n",
       "</style>\n",
       "<table border=\"1\" class=\"dataframe\">\n",
       "  <thead>\n",
       "    <tr style=\"text-align: right;\">\n",
       "      <th></th>\n",
       "      <th>Liên kết</th>\n",
       "      <th>Mã sản phẩm</th>\n",
       "      <th>Tên sản phẩm</th>\n",
       "      <th>Mã danh mục</th>\n",
       "      <th>Giá</th>\n",
       "      <th>Giá Thị Trường</th>\n",
       "      <th>Số sản phẩm đã bán</th>\n",
       "      <th>Nhà xuất bản</th>\n",
       "      <th>Tác giả</th>\n",
       "      <th>Số trang</th>\n",
       "      <th>Đánh Giá trung bình</th>\n",
       "      <th>Số lượt đánh giá</th>\n",
       "    </tr>\n",
       "  </thead>\n",
       "  <tbody>\n",
       "    <tr>\n",
       "      <th>201</th>\n",
       "      <td>https://www.fahasa.com/frieren-phap-su-tien-ta...</td>\n",
       "      <td>frieren12</td>\n",
       "      <td>Frieren - Pháp Sư Tiễn Táng - Tập 12 - Tặng Kè...</td>\n",
       "      <td>6718</td>\n",
       "      <td>45.0</td>\n",
       "      <td>NaN</td>\n",
       "      <td>1.1k</td>\n",
       "      <td>Kim Đồng</td>\n",
       "      <td>NaN</td>\n",
       "      <td>192.0</td>\n",
       "      <td>0.0</td>\n",
       "      <td>0</td>\n",
       "    </tr>\n",
       "    <tr>\n",
       "      <th>202</th>\n",
       "      <td>https://www.fahasa.com/frieren-phap-su-tien-ta...</td>\n",
       "      <td>frieren12db</td>\n",
       "      <td>Frieren - Pháp Sư Tiễn Táng - Tập 12 - Bản Đặc...</td>\n",
       "      <td>6718</td>\n",
       "      <td>110.0</td>\n",
       "      <td>NaN</td>\n",
       "      <td>1.1k</td>\n",
       "      <td>Kim Đồng</td>\n",
       "      <td>NaN</td>\n",
       "      <td>192.0</td>\n",
       "      <td>0.0</td>\n",
       "      <td>0</td>\n",
       "    </tr>\n",
       "    <tr>\n",
       "      <th>743</th>\n",
       "      <td>https://www.fahasa.com/tu-dien-y-hoc-dorland-a...</td>\n",
       "      <td>8935073096761</td>\n",
       "      <td>Từ Điển Y Học DorLand Anh - Việt</td>\n",
       "      <td>19</td>\n",
       "      <td>1.235.000</td>\n",
       "      <td>1.300.000</td>\n",
       "      <td>63</td>\n",
       "      <td>Y Học</td>\n",
       "      <td>NaN</td>\n",
       "      <td>1980.0</td>\n",
       "      <td>4.8</td>\n",
       "      <td>4</td>\n",
       "    </tr>\n",
       "    <tr>\n",
       "      <th>992</th>\n",
       "      <td>https://www.fahasa.com/speak-now-1-sb-pk-richa...</td>\n",
       "      <td>9780194030151</td>\n",
       "      <td>Speak Now 1 Sb Pk Richards &amp; Bohl</td>\n",
       "      <td>5421</td>\n",
       "      <td>248.9</td>\n",
       "      <td>262.0</td>\n",
       "      <td>188</td>\n",
       "      <td>Oxford</td>\n",
       "      <td>NaN</td>\n",
       "      <td>NaN</td>\n",
       "      <td>4.0</td>\n",
       "      <td>3</td>\n",
       "    </tr>\n",
       "    <tr>\n",
       "      <th>1035</th>\n",
       "      <td>https://www.fahasa.com/start-with-why.html?fhs...</td>\n",
       "      <td>9780241958223</td>\n",
       "      <td>Start With Why</td>\n",
       "      <td>5004</td>\n",
       "      <td>270.9</td>\n",
       "      <td>301.0</td>\n",
       "      <td>98</td>\n",
       "      <td>Penguin Books UK</td>\n",
       "      <td>NaN</td>\n",
       "      <td>NaN</td>\n",
       "      <td>5.0</td>\n",
       "      <td>2</td>\n",
       "    </tr>\n",
       "    <tr>\n",
       "      <th>1098</th>\n",
       "      <td>https://www.fahasa.com/make-your-bed.html?fhs_...</td>\n",
       "      <td>9780718188863</td>\n",
       "      <td>Make Your Bed</td>\n",
       "      <td>4199</td>\n",
       "      <td>279.0</td>\n",
       "      <td>310.0</td>\n",
       "      <td>80</td>\n",
       "      <td>Penguin Books UK</td>\n",
       "      <td>NaN</td>\n",
       "      <td>144.0</td>\n",
       "      <td>0.0</td>\n",
       "      <td>0</td>\n",
       "    </tr>\n",
       "    <tr>\n",
       "      <th>1111</th>\n",
       "      <td>https://www.fahasa.com/be-the-hands-and-feet.h...</td>\n",
       "      <td>9780735291850</td>\n",
       "      <td>Be The Hands And Feet</td>\n",
       "      <td>4199</td>\n",
       "      <td>260.1</td>\n",
       "      <td>289.0</td>\n",
       "      <td>NaN</td>\n",
       "      <td>NXB Random house</td>\n",
       "      <td>NaN</td>\n",
       "      <td>256.0</td>\n",
       "      <td>0.0</td>\n",
       "      <td>0</td>\n",
       "    </tr>\n",
       "    <tr>\n",
       "      <th>1292</th>\n",
       "      <td>https://www.fahasa.com/wonderfully-wicked-witc...</td>\n",
       "      <td>9781472352378</td>\n",
       "      <td>Wonderfully Wicked Witches</td>\n",
       "      <td>5492</td>\n",
       "      <td>95.4</td>\n",
       "      <td>106.0</td>\n",
       "      <td>NaN</td>\n",
       "      <td>Parragon</td>\n",
       "      <td>NaN</td>\n",
       "      <td>NaN</td>\n",
       "      <td>0.0</td>\n",
       "      <td>0</td>\n",
       "    </tr>\n",
       "    <tr>\n",
       "      <th>1642</th>\n",
       "      <td>https://www.fahasa.com/the-ultimate-selfie-kit...</td>\n",
       "      <td>9781472393678</td>\n",
       "      <td>The Ultimate Selfie Kit</td>\n",
       "      <td>3497</td>\n",
       "      <td>163.800</td>\n",
       "      <td>182.000</td>\n",
       "      <td>NaN</td>\n",
       "      <td>Parragon Book Service Ltd</td>\n",
       "      <td>NaN</td>\n",
       "      <td>NaN</td>\n",
       "      <td>0.0</td>\n",
       "      <td>0</td>\n",
       "    </tr>\n",
       "    <tr>\n",
       "      <th>1698</th>\n",
       "      <td>https://www.fahasa.com/lullaby-music-box.html?...</td>\n",
       "      <td>9781760451882</td>\n",
       "      <td>Lullaby Music Box</td>\n",
       "      <td>5889</td>\n",
       "      <td>245.700</td>\n",
       "      <td>273.000</td>\n",
       "      <td>NaN</td>\n",
       "      <td>Lake Press</td>\n",
       "      <td>NaN</td>\n",
       "      <td>24</td>\n",
       "      <td>0.0</td>\n",
       "      <td>0</td>\n",
       "    </tr>\n",
       "  </tbody>\n",
       "</table>\n",
       "</div>"
      ],
      "text/plain": [
       "                                               Liên kết    Mã sản phẩm  \\\n",
       "201   https://www.fahasa.com/frieren-phap-su-tien-ta...      frieren12   \n",
       "202   https://www.fahasa.com/frieren-phap-su-tien-ta...    frieren12db   \n",
       "743   https://www.fahasa.com/tu-dien-y-hoc-dorland-a...  8935073096761   \n",
       "992   https://www.fahasa.com/speak-now-1-sb-pk-richa...  9780194030151   \n",
       "1035  https://www.fahasa.com/start-with-why.html?fhs...  9780241958223   \n",
       "1098  https://www.fahasa.com/make-your-bed.html?fhs_...  9780718188863   \n",
       "1111  https://www.fahasa.com/be-the-hands-and-feet.h...  9780735291850   \n",
       "1292  https://www.fahasa.com/wonderfully-wicked-witc...  9781472352378   \n",
       "1642  https://www.fahasa.com/the-ultimate-selfie-kit...  9781472393678   \n",
       "1698  https://www.fahasa.com/lullaby-music-box.html?...  9781760451882   \n",
       "\n",
       "                                           Tên sản phẩm  Mã danh mục  \\\n",
       "201   Frieren - Pháp Sư Tiễn Táng - Tập 12 - Tặng Kè...         6718   \n",
       "202   Frieren - Pháp Sư Tiễn Táng - Tập 12 - Bản Đặc...         6718   \n",
       "743                    Từ Điển Y Học DorLand Anh - Việt           19   \n",
       "992                   Speak Now 1 Sb Pk Richards & Bohl         5421   \n",
       "1035                                     Start With Why         5004   \n",
       "1098                                      Make Your Bed         4199   \n",
       "1111                              Be The Hands And Feet         4199   \n",
       "1292                         Wonderfully Wicked Witches         5492   \n",
       "1642                            The Ultimate Selfie Kit         3497   \n",
       "1698                                  Lullaby Music Box         5889   \n",
       "\n",
       "            Giá Giá Thị Trường Số sản phẩm đã bán               Nhà xuất bản  \\\n",
       "201        45.0            NaN               1.1k                   Kim Đồng   \n",
       "202       110.0            NaN               1.1k                   Kim Đồng   \n",
       "743   1.235.000      1.300.000                 63                      Y Học   \n",
       "992       248.9          262.0                188                     Oxford   \n",
       "1035      270.9          301.0                 98           Penguin Books UK   \n",
       "1098      279.0          310.0                 80           Penguin Books UK   \n",
       "1111      260.1          289.0                NaN           NXB Random house   \n",
       "1292       95.4          106.0                NaN                   Parragon   \n",
       "1642    163.800        182.000                NaN  Parragon Book Service Ltd   \n",
       "1698    245.700        273.000                NaN                 Lake Press   \n",
       "\n",
       "     Tác giả Số trang  Đánh Giá trung bình  Số lượt đánh giá  \n",
       "201      NaN    192.0                  0.0                 0  \n",
       "202      NaN    192.0                  0.0                 0  \n",
       "743      NaN   1980.0                  4.8                 4  \n",
       "992      NaN      NaN                  4.0                 3  \n",
       "1035     NaN      NaN                  5.0                 2  \n",
       "1098     NaN    144.0                  0.0                 0  \n",
       "1111     NaN    256.0                  0.0                 0  \n",
       "1292     NaN      NaN                  0.0                 0  \n",
       "1642     NaN      NaN                  0.0                 0  \n",
       "1698     NaN       24                  0.0                 0  "
      ]
     },
     "execution_count": 5,
     "metadata": {},
     "output_type": "execute_result"
    }
   ],
   "source": [
    "products[products['Tác giả'].isnull()]"
   ]
  },
  {
   "cell_type": "code",
   "execution_count": null,
   "metadata": {},
   "outputs": [],
   "source": []
  },
  {
   "cell_type": "markdown",
   "metadata": {},
   "source": [
    "### Mã sản phẩm"
   ]
  },
  {
   "cell_type": "code",
   "execution_count": 6,
   "metadata": {},
   "outputs": [
    {
     "data": {
      "text/html": [
       "<div>\n",
       "<style scoped>\n",
       "    .dataframe tbody tr th:only-of-type {\n",
       "        vertical-align: middle;\n",
       "    }\n",
       "\n",
       "    .dataframe tbody tr th {\n",
       "        vertical-align: top;\n",
       "    }\n",
       "\n",
       "    .dataframe thead th {\n",
       "        text-align: right;\n",
       "    }\n",
       "</style>\n",
       "<table border=\"1\" class=\"dataframe\">\n",
       "  <thead>\n",
       "    <tr style=\"text-align: right;\">\n",
       "      <th></th>\n",
       "      <th>Liên kết</th>\n",
       "      <th>Mã sản phẩm</th>\n",
       "      <th>Tên sản phẩm</th>\n",
       "      <th>Mã danh mục</th>\n",
       "      <th>Giá</th>\n",
       "      <th>Giá Thị Trường</th>\n",
       "      <th>Số sản phẩm đã bán</th>\n",
       "      <th>Nhà xuất bản</th>\n",
       "      <th>Tác giả</th>\n",
       "      <th>Số trang</th>\n",
       "      <th>Đánh Giá trung bình</th>\n",
       "      <th>Số lượt đánh giá</th>\n",
       "    </tr>\n",
       "  </thead>\n",
       "  <tbody>\n",
       "  </tbody>\n",
       "</table>\n",
       "</div>"
      ],
      "text/plain": [
       "Empty DataFrame\n",
       "Columns: [Liên kết, Mã sản phẩm, Tên sản phẩm, Mã danh mục, Giá, Giá Thị Trường, Số sản phẩm đã bán, Nhà xuất bản, Tác giả, Số trang, Đánh Giá trung bình, Số lượt đánh giá]\n",
       "Index: []"
      ]
     },
     "execution_count": 6,
     "metadata": {},
     "output_type": "execute_result"
    }
   ],
   "source": [
    "# Kiểm tra các record không có mã sản phẩm\n",
    "products[products['Mã sản phẩm'].isna()]"
   ]
  },
  {
   "cell_type": "markdown",
   "metadata": {},
   "source": [
    "### Nhà xuất bản"
   ]
  },
  {
   "cell_type": "code",
   "execution_count": 7,
   "metadata": {},
   "outputs": [
    {
     "data": {
      "text/plain": [
       "Nhà xuất bản\n",
       "Dân Trí                  71\n",
       "Thế Giới                 56\n",
       "Hồng Đức                 51\n",
       "Kim Đồng                 49\n",
       "NXB Tổng Hợp TPHCM       43\n",
       "                         ..\n",
       "Disney Editions           1\n",
       "Hachette Book             1\n",
       "Black Dog & Leventhal     1\n",
       "Fireside                  1\n",
       "Spruce Books              1\n",
       "Name: count, Length: 392, dtype: int64"
      ]
     },
     "execution_count": 7,
     "metadata": {},
     "output_type": "execute_result"
    }
   ],
   "source": [
    "# Đếm số lượng từng nhà xuất bản\n",
    "products['Nhà xuất bản'].value_counts()"
   ]
  },
  {
   "cell_type": "markdown",
   "metadata": {},
   "source": [
    "1 vài nhà xuất bản bị thừa cụm NXB ở đầu. Ví dụ NXB Kim Đồng và Kim Đồng là giống nhau."
   ]
  },
  {
   "cell_type": "markdown",
   "metadata": {},
   "source": [
    "Replace các NXB bị thừa cụm NXB"
   ]
  },
  {
   "cell_type": "code",
   "execution_count": 8,
   "metadata": {},
   "outputs": [],
   "source": [
    "products['Nhà xuất bản'] = products[ 'Nhà xuất bản'].replace(r'^NXB','', regex=True).str.strip()"
   ]
  },
  {
   "cell_type": "code",
   "execution_count": 9,
   "metadata": {},
   "outputs": [
    {
     "data": {
      "text/plain": [
       "Nhà xuất bản\n",
       "Hồng Đức        91\n",
       "Dân Trí         89\n",
       "Thế Giới        81\n",
       "Kim Đồng        69\n",
       "Thanh Niên      62\n",
       "                ..\n",
       "Familius         1\n",
       "‎Ace             1\n",
       "Đông A           1\n",
       "Fireside         1\n",
       "Spruce Books     1\n",
       "Name: count, Length: 370, dtype: int64"
      ]
     },
     "execution_count": 9,
     "metadata": {},
     "output_type": "execute_result"
    }
   ],
   "source": [
    "products['Nhà xuất bản'].value_counts()"
   ]
  },
  {
   "cell_type": "markdown",
   "metadata": {},
   "source": [
    "Số lượng nhà xuất bản đã giảm xuống từ 392 còn 370."
   ]
  },
  {
   "cell_type": "markdown",
   "metadata": {},
   "source": [
    "### Giá Thị Trường"
   ]
  },
  {
   "cell_type": "code",
   "execution_count": 10,
   "metadata": {},
   "outputs": [
    {
     "data": {
      "text/html": [
       "<div>\n",
       "<style scoped>\n",
       "    .dataframe tbody tr th:only-of-type {\n",
       "        vertical-align: middle;\n",
       "    }\n",
       "\n",
       "    .dataframe tbody tr th {\n",
       "        vertical-align: top;\n",
       "    }\n",
       "\n",
       "    .dataframe thead th {\n",
       "        text-align: right;\n",
       "    }\n",
       "</style>\n",
       "<table border=\"1\" class=\"dataframe\">\n",
       "  <thead>\n",
       "    <tr style=\"text-align: right;\">\n",
       "      <th></th>\n",
       "      <th>Liên kết</th>\n",
       "      <th>Mã sản phẩm</th>\n",
       "      <th>Tên sản phẩm</th>\n",
       "      <th>Mã danh mục</th>\n",
       "      <th>Giá</th>\n",
       "      <th>Giá Thị Trường</th>\n",
       "      <th>Số sản phẩm đã bán</th>\n",
       "      <th>Nhà xuất bản</th>\n",
       "      <th>Tác giả</th>\n",
       "      <th>Số trang</th>\n",
       "      <th>Đánh Giá trung bình</th>\n",
       "      <th>Số lượt đánh giá</th>\n",
       "    </tr>\n",
       "  </thead>\n",
       "  <tbody>\n",
       "  </tbody>\n",
       "</table>\n",
       "</div>"
      ],
      "text/plain": [
       "Empty DataFrame\n",
       "Columns: [Liên kết, Mã sản phẩm, Tên sản phẩm, Mã danh mục, Giá, Giá Thị Trường, Số sản phẩm đã bán, Nhà xuất bản, Tác giả, Số trang, Đánh Giá trung bình, Số lượt đánh giá]\n",
       "Index: []"
      ]
     },
     "execution_count": 10,
     "metadata": {},
     "output_type": "execute_result"
    }
   ],
   "source": [
    "#Kiểm tra các record không có giá   \n",
    "# Gán index là các record có giá thị trường = 'Không có giá'\n",
    "non_old_price = products['Giá Thị Trường'] == 'Không có giá'\n",
    "products[non_old_price].head(5)"
   ]
  },
  {
   "cell_type": "markdown",
   "metadata": {},
   "source": [
    "Các dòng không có giá thị trường ta sẽ mặc định là chính giá bán.\n",
    "Fill các sp không có giá trị trường bằng giá bán"
   ]
  },
  {
   "cell_type": "code",
   "execution_count": 11,
   "metadata": {},
   "outputs": [],
   "source": [
    "# Slicing các record có giá thị trường = 'Không có giá' và gán giá trị mới\n",
    "products.loc[non_old_price , 'Giá Thị Trường'] = products['Giá']"
   ]
  },
  {
   "cell_type": "markdown",
   "metadata": {},
   "source": [
    "Kiểm tra kết quả"
   ]
  },
  {
   "cell_type": "code",
   "execution_count": 12,
   "metadata": {},
   "outputs": [
    {
     "data": {
      "text/html": [
       "<div>\n",
       "<style scoped>\n",
       "    .dataframe tbody tr th:only-of-type {\n",
       "        vertical-align: middle;\n",
       "    }\n",
       "\n",
       "    .dataframe tbody tr th {\n",
       "        vertical-align: top;\n",
       "    }\n",
       "\n",
       "    .dataframe thead th {\n",
       "        text-align: right;\n",
       "    }\n",
       "</style>\n",
       "<table border=\"1\" class=\"dataframe\">\n",
       "  <thead>\n",
       "    <tr style=\"text-align: right;\">\n",
       "      <th></th>\n",
       "      <th>Liên kết</th>\n",
       "      <th>Mã sản phẩm</th>\n",
       "      <th>Tên sản phẩm</th>\n",
       "      <th>Mã danh mục</th>\n",
       "      <th>Giá</th>\n",
       "      <th>Giá Thị Trường</th>\n",
       "      <th>Số sản phẩm đã bán</th>\n",
       "      <th>Nhà xuất bản</th>\n",
       "      <th>Tác giả</th>\n",
       "      <th>Số trang</th>\n",
       "      <th>Đánh Giá trung bình</th>\n",
       "      <th>Số lượt đánh giá</th>\n",
       "    </tr>\n",
       "  </thead>\n",
       "  <tbody>\n",
       "  </tbody>\n",
       "</table>\n",
       "</div>"
      ],
      "text/plain": [
       "Empty DataFrame\n",
       "Columns: [Liên kết, Mã sản phẩm, Tên sản phẩm, Mã danh mục, Giá, Giá Thị Trường, Số sản phẩm đã bán, Nhà xuất bản, Tác giả, Số trang, Đánh Giá trung bình, Số lượt đánh giá]\n",
       "Index: []"
      ]
     },
     "execution_count": 12,
     "metadata": {},
     "output_type": "execute_result"
    }
   ],
   "source": [
    "products[non_old_price].head(5)"
   ]
  },
  {
   "cell_type": "markdown",
   "metadata": {},
   "source": [
    "### Lấy tên danh mục từ df_child_categories"
   ]
  },
  {
   "cell_type": "code",
   "execution_count": 13,
   "metadata": {},
   "outputs": [],
   "source": [
    "# merge products với df_categories dựa vào cột 'Mã danh mục' và phương thức inner\n",
    "# inner để giữ lại các record có mã danh mục trong cả 2 bảng\n",
    "products = pd.merge(products, df_child_categories, on='Mã danh mục', how='inner')"
   ]
  },
  {
   "cell_type": "code",
   "execution_count": 14,
   "metadata": {},
   "outputs": [
    {
     "data": {
      "text/html": [
       "<div>\n",
       "<style scoped>\n",
       "    .dataframe tbody tr th:only-of-type {\n",
       "        vertical-align: middle;\n",
       "    }\n",
       "\n",
       "    .dataframe tbody tr th {\n",
       "        vertical-align: top;\n",
       "    }\n",
       "\n",
       "    .dataframe thead th {\n",
       "        text-align: right;\n",
       "    }\n",
       "</style>\n",
       "<table border=\"1\" class=\"dataframe\">\n",
       "  <thead>\n",
       "    <tr style=\"text-align: right;\">\n",
       "      <th></th>\n",
       "      <th>Tên sản phẩm</th>\n",
       "      <th>Nhà xuất bản</th>\n",
       "      <th>Tên danh mục c1</th>\n",
       "      <th>Tên danh mục c2</th>\n",
       "    </tr>\n",
       "  </thead>\n",
       "  <tbody>\n",
       "    <tr>\n",
       "      <th>0</th>\n",
       "      <td>Búp Sen Xanh (Tái Bản 2020)</td>\n",
       "      <td>Kim Đồng</td>\n",
       "      <td>Sách Trong Nước</td>\n",
       "      <td>Thiếu nhi</td>\n",
       "    </tr>\n",
       "    <tr>\n",
       "      <th>1</th>\n",
       "      <td>Lược Sử Nước Việt Bằng Tranh (Tái Bản 2022)</td>\n",
       "      <td>Kim Đồng</td>\n",
       "      <td>Sách Trong Nước</td>\n",
       "      <td>Thiếu nhi</td>\n",
       "    </tr>\n",
       "    <tr>\n",
       "      <th>2</th>\n",
       "      <td>100 Kỹ Năng Sinh Tồn</td>\n",
       "      <td>Thanh Niên</td>\n",
       "      <td>Sách Trong Nước</td>\n",
       "      <td>Thiếu nhi</td>\n",
       "    </tr>\n",
       "    <tr>\n",
       "      <th>3</th>\n",
       "      <td>Tuổi Thơ Dữ Dội - Tập 1 (Tái Bản 2019)</td>\n",
       "      <td>Kim Đồng</td>\n",
       "      <td>Sách Trong Nước</td>\n",
       "      <td>Thiếu nhi</td>\n",
       "    </tr>\n",
       "    <tr>\n",
       "      <th>4</th>\n",
       "      <td>Tuổi Thơ Dữ Dội - Tập 2 (Tái Bản 2019)</td>\n",
       "      <td>Kim Đồng</td>\n",
       "      <td>Sách Trong Nước</td>\n",
       "      <td>Thiếu nhi</td>\n",
       "    </tr>\n",
       "  </tbody>\n",
       "</table>\n",
       "</div>"
      ],
      "text/plain": [
       "                                  Tên sản phẩm Nhà xuất bản  Tên danh mục c1  \\\n",
       "0                  Búp Sen Xanh (Tái Bản 2020)     Kim Đồng  Sách Trong Nước   \n",
       "1  Lược Sử Nước Việt Bằng Tranh (Tái Bản 2022)     Kim Đồng  Sách Trong Nước   \n",
       "2                         100 Kỹ Năng Sinh Tồn   Thanh Niên  Sách Trong Nước   \n",
       "3       Tuổi Thơ Dữ Dội - Tập 1 (Tái Bản 2019)     Kim Đồng  Sách Trong Nước   \n",
       "4       Tuổi Thơ Dữ Dội - Tập 2 (Tái Bản 2019)     Kim Đồng  Sách Trong Nước   \n",
       "\n",
       "  Tên danh mục c2  \n",
       "0       Thiếu nhi  \n",
       "1       Thiếu nhi  \n",
       "2       Thiếu nhi  \n",
       "3       Thiếu nhi  \n",
       "4       Thiếu nhi  "
      ]
     },
     "execution_count": 14,
     "metadata": {},
     "output_type": "execute_result"
    }
   ],
   "source": [
    "#productsframe mới sau khi merge có thêm cột Tên danh mục\n",
    "products[['Tên sản phẩm', 'Nhà xuất bản' , 'Tên danh mục c1' , 'Tên danh mục c2']].head(5)"
   ]
  },
  {
   "cell_type": "markdown",
   "metadata": {},
   "source": [
    "### Drop các cột không dùng để phân tích"
   ]
  },
  {
   "cell_type": "code",
   "execution_count": 15,
   "metadata": {},
   "outputs": [],
   "source": [
    "col_drop = ['Liên kết_x' , 'Mã danh mục' , 'Liên kết_y']\n",
    "products.drop(col_drop, axis=1, inplace=True)"
   ]
  },
  {
   "cell_type": "markdown",
   "metadata": {},
   "source": [
    "### Xử lý 2 cột giá"
   ]
  },
  {
   "cell_type": "code",
   "execution_count": 16,
   "metadata": {},
   "outputs": [
    {
     "data": {
      "text/html": [
       "<div>\n",
       "<style scoped>\n",
       "    .dataframe tbody tr th:only-of-type {\n",
       "        vertical-align: middle;\n",
       "    }\n",
       "\n",
       "    .dataframe tbody tr th {\n",
       "        vertical-align: top;\n",
       "    }\n",
       "\n",
       "    .dataframe thead th {\n",
       "        text-align: right;\n",
       "    }\n",
       "</style>\n",
       "<table border=\"1\" class=\"dataframe\">\n",
       "  <thead>\n",
       "    <tr style=\"text-align: right;\">\n",
       "      <th></th>\n",
       "      <th>Giá</th>\n",
       "      <th>Giá Thị Trường</th>\n",
       "    </tr>\n",
       "  </thead>\n",
       "  <tbody>\n",
       "    <tr>\n",
       "      <th>0</th>\n",
       "      <td>61.2</td>\n",
       "      <td>72.0</td>\n",
       "    </tr>\n",
       "    <tr>\n",
       "      <th>1</th>\n",
       "      <td>119.0</td>\n",
       "      <td>140.0</td>\n",
       "    </tr>\n",
       "    <tr>\n",
       "      <th>2</th>\n",
       "      <td>74.25</td>\n",
       "      <td>99.0</td>\n",
       "    </tr>\n",
       "    <tr>\n",
       "      <th>3</th>\n",
       "      <td>60.0</td>\n",
       "      <td>80.0</td>\n",
       "    </tr>\n",
       "    <tr>\n",
       "      <th>4</th>\n",
       "      <td>60.0</td>\n",
       "      <td>80.0</td>\n",
       "    </tr>\n",
       "  </tbody>\n",
       "</table>\n",
       "</div>"
      ],
      "text/plain": [
       "     Giá Giá Thị Trường\n",
       "0   61.2           72.0\n",
       "1  119.0          140.0\n",
       "2  74.25           99.0\n",
       "3   60.0           80.0\n",
       "4   60.0           80.0"
      ]
     },
     "execution_count": 16,
     "metadata": {},
     "output_type": "execute_result"
    }
   ],
   "source": [
    "products[['Giá' , 'Giá Thị Trường']].head(5)"
   ]
  },
  {
   "cell_type": "code",
   "execution_count": 17,
   "metadata": {},
   "outputs": [
    {
     "data": {
      "text/html": [
       "<div>\n",
       "<style scoped>\n",
       "    .dataframe tbody tr th:only-of-type {\n",
       "        vertical-align: middle;\n",
       "    }\n",
       "\n",
       "    .dataframe tbody tr th {\n",
       "        vertical-align: top;\n",
       "    }\n",
       "\n",
       "    .dataframe thead th {\n",
       "        text-align: right;\n",
       "    }\n",
       "</style>\n",
       "<table border=\"1\" class=\"dataframe\">\n",
       "  <thead>\n",
       "    <tr style=\"text-align: right;\">\n",
       "      <th></th>\n",
       "      <th>Mã sản phẩm</th>\n",
       "      <th>Tên sản phẩm</th>\n",
       "      <th>Giá</th>\n",
       "      <th>Giá Thị Trường</th>\n",
       "      <th>Số sản phẩm đã bán</th>\n",
       "      <th>Nhà xuất bản</th>\n",
       "      <th>Tác giả</th>\n",
       "      <th>Số trang</th>\n",
       "      <th>Đánh Giá trung bình</th>\n",
       "      <th>Số lượt đánh giá</th>\n",
       "      <th>Tên danh mục c1</th>\n",
       "      <th>Tên danh mục c2</th>\n",
       "    </tr>\n",
       "  </thead>\n",
       "  <tbody>\n",
       "    <tr>\n",
       "      <th>45</th>\n",
       "      <td>3300000026817</td>\n",
       "      <td>Sách Giáo Khoa Bộ Lớp 1 - Chân Trời Sáng Tạo -...</td>\n",
       "      <td>153.0</td>\n",
       "      <td>NaN</td>\n",
       "      <td>1.5k</td>\n",
       "      <td>Đại Học Sư Phạm TPHCM</td>\n",
       "      <td>Nhiều Tác Giả</td>\n",
       "      <td>NaN</td>\n",
       "      <td>0.0</td>\n",
       "      <td>0</td>\n",
       "      <td>Sách Trong Nước</td>\n",
       "      <td>Giáo khoa - Tham khảo</td>\n",
       "    </tr>\n",
       "    <tr>\n",
       "      <th>46</th>\n",
       "      <td>9786040393371</td>\n",
       "      <td>Ngữ Văn 12 - Tập 1 (Chân Trời) (Chuẩn)</td>\n",
       "      <td>23.0</td>\n",
       "      <td>NaN</td>\n",
       "      <td>1.5k</td>\n",
       "      <td>Giáo Dục Việt Nam</td>\n",
       "      <td>Nhiều Tác Giả</td>\n",
       "      <td>172.0</td>\n",
       "      <td>0.0</td>\n",
       "      <td>0</td>\n",
       "      <td>Sách Trong Nước</td>\n",
       "      <td>Giáo khoa - Tham khảo</td>\n",
       "    </tr>\n",
       "    <tr>\n",
       "      <th>47</th>\n",
       "      <td>9786040351951</td>\n",
       "      <td>Toán 11 - Tập 1 (Chân Trời Sáng Tạo) (Chuẩn)</td>\n",
       "      <td>21.0</td>\n",
       "      <td>NaN</td>\n",
       "      <td>1.2k</td>\n",
       "      <td>Giáo Dục Việt Nam</td>\n",
       "      <td>Nhiều Tác Giả</td>\n",
       "      <td>152.0</td>\n",
       "      <td>0.0</td>\n",
       "      <td>0</td>\n",
       "      <td>Sách Trong Nước</td>\n",
       "      <td>Giáo khoa - Tham khảo</td>\n",
       "    </tr>\n",
       "    <tr>\n",
       "      <th>48</th>\n",
       "      <td>9786040393708</td>\n",
       "      <td>Global Success - Tiếng Anh 12 - Sách Học Sinh ...</td>\n",
       "      <td>70.0</td>\n",
       "      <td>NaN</td>\n",
       "      <td>1.2k</td>\n",
       "      <td>Giáo Dục Việt Nam</td>\n",
       "      <td>Hoàng Văn Vân, Vũ Hải Hà, Chu Quang Bình, Hoàn...</td>\n",
       "      <td>155.0</td>\n",
       "      <td>0.0</td>\n",
       "      <td>0</td>\n",
       "      <td>Sách Trong Nước</td>\n",
       "      <td>Giáo khoa - Tham khảo</td>\n",
       "    </tr>\n",
       "    <tr>\n",
       "      <th>49</th>\n",
       "      <td>9786044863061</td>\n",
       "      <td>Toán 12 - Tập 1 (Cánh Diều) (Chuẩn)</td>\n",
       "      <td>16.0</td>\n",
       "      <td>NaN</td>\n",
       "      <td>1.2k</td>\n",
       "      <td>Đại Học Sư Phạm</td>\n",
       "      <td>Nhiều Tác Giả</td>\n",
       "      <td>126.0</td>\n",
       "      <td>0.0</td>\n",
       "      <td>0</td>\n",
       "      <td>Sách Trong Nước</td>\n",
       "      <td>Giáo khoa - Tham khảo</td>\n",
       "    </tr>\n",
       "  </tbody>\n",
       "</table>\n",
       "</div>"
      ],
      "text/plain": [
       "      Mã sản phẩm                                       Tên sản phẩm    Giá  \\\n",
       "45  3300000026817  Sách Giáo Khoa Bộ Lớp 1 - Chân Trời Sáng Tạo -...  153.0   \n",
       "46  9786040393371             Ngữ Văn 12 - Tập 1 (Chân Trời) (Chuẩn)   23.0   \n",
       "47  9786040351951       Toán 11 - Tập 1 (Chân Trời Sáng Tạo) (Chuẩn)   21.0   \n",
       "48  9786040393708  Global Success - Tiếng Anh 12 - Sách Học Sinh ...   70.0   \n",
       "49  9786044863061                Toán 12 - Tập 1 (Cánh Diều) (Chuẩn)   16.0   \n",
       "\n",
       "   Giá Thị Trường Số sản phẩm đã bán           Nhà xuất bản  \\\n",
       "45            NaN               1.5k  Đại Học Sư Phạm TPHCM   \n",
       "46            NaN               1.5k      Giáo Dục Việt Nam   \n",
       "47            NaN               1.2k      Giáo Dục Việt Nam   \n",
       "48            NaN               1.2k      Giáo Dục Việt Nam   \n",
       "49            NaN               1.2k        Đại Học Sư Phạm   \n",
       "\n",
       "                                              Tác giả Số trang  \\\n",
       "45                                      Nhiều Tác Giả      NaN   \n",
       "46                                      Nhiều Tác Giả    172.0   \n",
       "47                                      Nhiều Tác Giả    152.0   \n",
       "48  Hoàng Văn Vân, Vũ Hải Hà, Chu Quang Bình, Hoàn...    155.0   \n",
       "49                                      Nhiều Tác Giả    126.0   \n",
       "\n",
       "    Đánh Giá trung bình  Số lượt đánh giá  Tên danh mục c1  \\\n",
       "45                  0.0                 0  Sách Trong Nước   \n",
       "46                  0.0                 0  Sách Trong Nước   \n",
       "47                  0.0                 0  Sách Trong Nước   \n",
       "48                  0.0                 0  Sách Trong Nước   \n",
       "49                  0.0                 0  Sách Trong Nước   \n",
       "\n",
       "          Tên danh mục c2  \n",
       "45  Giáo khoa - Tham khảo  \n",
       "46  Giáo khoa - Tham khảo  \n",
       "47  Giáo khoa - Tham khảo  \n",
       "48  Giáo khoa - Tham khảo  \n",
       "49  Giáo khoa - Tham khảo  "
      ]
     },
     "execution_count": 17,
     "metadata": {},
     "output_type": "execute_result"
    }
   ],
   "source": [
    "non_old_price = products['Giá Thị Trường'].isna()\n",
    "products[non_old_price].head(5)"
   ]
  },
  {
   "cell_type": "markdown",
   "metadata": {},
   "source": [
    "Fill các row không có giá thị trường thành giá hiện tại"
   ]
  },
  {
   "cell_type": "code",
   "execution_count": 18,
   "metadata": {},
   "outputs": [],
   "source": [
    "products.loc[non_old_price , 'Giá Thị Trường'] = products['Giá']"
   ]
  },
  {
   "cell_type": "markdown",
   "metadata": {},
   "source": [
    "Kết quả\n"
   ]
  },
  {
   "cell_type": "code",
   "execution_count": 19,
   "metadata": {},
   "outputs": [
    {
     "data": {
      "text/html": [
       "<div>\n",
       "<style scoped>\n",
       "    .dataframe tbody tr th:only-of-type {\n",
       "        vertical-align: middle;\n",
       "    }\n",
       "\n",
       "    .dataframe tbody tr th {\n",
       "        vertical-align: top;\n",
       "    }\n",
       "\n",
       "    .dataframe thead th {\n",
       "        text-align: right;\n",
       "    }\n",
       "</style>\n",
       "<table border=\"1\" class=\"dataframe\">\n",
       "  <thead>\n",
       "    <tr style=\"text-align: right;\">\n",
       "      <th></th>\n",
       "      <th>Mã sản phẩm</th>\n",
       "      <th>Tên sản phẩm</th>\n",
       "      <th>Giá</th>\n",
       "      <th>Giá Thị Trường</th>\n",
       "      <th>Số sản phẩm đã bán</th>\n",
       "      <th>Nhà xuất bản</th>\n",
       "      <th>Tác giả</th>\n",
       "      <th>Số trang</th>\n",
       "      <th>Đánh Giá trung bình</th>\n",
       "      <th>Số lượt đánh giá</th>\n",
       "      <th>Tên danh mục c1</th>\n",
       "      <th>Tên danh mục c2</th>\n",
       "    </tr>\n",
       "  </thead>\n",
       "  <tbody>\n",
       "    <tr>\n",
       "      <th>45</th>\n",
       "      <td>3300000026817</td>\n",
       "      <td>Sách Giáo Khoa Bộ Lớp 1 - Chân Trời Sáng Tạo -...</td>\n",
       "      <td>153.0</td>\n",
       "      <td>153.0</td>\n",
       "      <td>1.5k</td>\n",
       "      <td>Đại Học Sư Phạm TPHCM</td>\n",
       "      <td>Nhiều Tác Giả</td>\n",
       "      <td>NaN</td>\n",
       "      <td>0.0</td>\n",
       "      <td>0</td>\n",
       "      <td>Sách Trong Nước</td>\n",
       "      <td>Giáo khoa - Tham khảo</td>\n",
       "    </tr>\n",
       "    <tr>\n",
       "      <th>46</th>\n",
       "      <td>9786040393371</td>\n",
       "      <td>Ngữ Văn 12 - Tập 1 (Chân Trời) (Chuẩn)</td>\n",
       "      <td>23.0</td>\n",
       "      <td>23.0</td>\n",
       "      <td>1.5k</td>\n",
       "      <td>Giáo Dục Việt Nam</td>\n",
       "      <td>Nhiều Tác Giả</td>\n",
       "      <td>172.0</td>\n",
       "      <td>0.0</td>\n",
       "      <td>0</td>\n",
       "      <td>Sách Trong Nước</td>\n",
       "      <td>Giáo khoa - Tham khảo</td>\n",
       "    </tr>\n",
       "    <tr>\n",
       "      <th>47</th>\n",
       "      <td>9786040351951</td>\n",
       "      <td>Toán 11 - Tập 1 (Chân Trời Sáng Tạo) (Chuẩn)</td>\n",
       "      <td>21.0</td>\n",
       "      <td>21.0</td>\n",
       "      <td>1.2k</td>\n",
       "      <td>Giáo Dục Việt Nam</td>\n",
       "      <td>Nhiều Tác Giả</td>\n",
       "      <td>152.0</td>\n",
       "      <td>0.0</td>\n",
       "      <td>0</td>\n",
       "      <td>Sách Trong Nước</td>\n",
       "      <td>Giáo khoa - Tham khảo</td>\n",
       "    </tr>\n",
       "    <tr>\n",
       "      <th>48</th>\n",
       "      <td>9786040393708</td>\n",
       "      <td>Global Success - Tiếng Anh 12 - Sách Học Sinh ...</td>\n",
       "      <td>70.0</td>\n",
       "      <td>70.0</td>\n",
       "      <td>1.2k</td>\n",
       "      <td>Giáo Dục Việt Nam</td>\n",
       "      <td>Hoàng Văn Vân, Vũ Hải Hà, Chu Quang Bình, Hoàn...</td>\n",
       "      <td>155.0</td>\n",
       "      <td>0.0</td>\n",
       "      <td>0</td>\n",
       "      <td>Sách Trong Nước</td>\n",
       "      <td>Giáo khoa - Tham khảo</td>\n",
       "    </tr>\n",
       "    <tr>\n",
       "      <th>49</th>\n",
       "      <td>9786044863061</td>\n",
       "      <td>Toán 12 - Tập 1 (Cánh Diều) (Chuẩn)</td>\n",
       "      <td>16.0</td>\n",
       "      <td>16.0</td>\n",
       "      <td>1.2k</td>\n",
       "      <td>Đại Học Sư Phạm</td>\n",
       "      <td>Nhiều Tác Giả</td>\n",
       "      <td>126.0</td>\n",
       "      <td>0.0</td>\n",
       "      <td>0</td>\n",
       "      <td>Sách Trong Nước</td>\n",
       "      <td>Giáo khoa - Tham khảo</td>\n",
       "    </tr>\n",
       "  </tbody>\n",
       "</table>\n",
       "</div>"
      ],
      "text/plain": [
       "      Mã sản phẩm                                       Tên sản phẩm    Giá  \\\n",
       "45  3300000026817  Sách Giáo Khoa Bộ Lớp 1 - Chân Trời Sáng Tạo -...  153.0   \n",
       "46  9786040393371             Ngữ Văn 12 - Tập 1 (Chân Trời) (Chuẩn)   23.0   \n",
       "47  9786040351951       Toán 11 - Tập 1 (Chân Trời Sáng Tạo) (Chuẩn)   21.0   \n",
       "48  9786040393708  Global Success - Tiếng Anh 12 - Sách Học Sinh ...   70.0   \n",
       "49  9786044863061                Toán 12 - Tập 1 (Cánh Diều) (Chuẩn)   16.0   \n",
       "\n",
       "   Giá Thị Trường Số sản phẩm đã bán           Nhà xuất bản  \\\n",
       "45          153.0               1.5k  Đại Học Sư Phạm TPHCM   \n",
       "46           23.0               1.5k      Giáo Dục Việt Nam   \n",
       "47           21.0               1.2k      Giáo Dục Việt Nam   \n",
       "48           70.0               1.2k      Giáo Dục Việt Nam   \n",
       "49           16.0               1.2k        Đại Học Sư Phạm   \n",
       "\n",
       "                                              Tác giả Số trang  \\\n",
       "45                                      Nhiều Tác Giả      NaN   \n",
       "46                                      Nhiều Tác Giả    172.0   \n",
       "47                                      Nhiều Tác Giả    152.0   \n",
       "48  Hoàng Văn Vân, Vũ Hải Hà, Chu Quang Bình, Hoàn...    155.0   \n",
       "49                                      Nhiều Tác Giả    126.0   \n",
       "\n",
       "    Đánh Giá trung bình  Số lượt đánh giá  Tên danh mục c1  \\\n",
       "45                  0.0                 0  Sách Trong Nước   \n",
       "46                  0.0                 0  Sách Trong Nước   \n",
       "47                  0.0                 0  Sách Trong Nước   \n",
       "48                  0.0                 0  Sách Trong Nước   \n",
       "49                  0.0                 0  Sách Trong Nước   \n",
       "\n",
       "          Tên danh mục c2  \n",
       "45  Giáo khoa - Tham khảo  \n",
       "46  Giáo khoa - Tham khảo  \n",
       "47  Giáo khoa - Tham khảo  \n",
       "48  Giáo khoa - Tham khảo  \n",
       "49  Giáo khoa - Tham khảo  "
      ]
     },
     "execution_count": 19,
     "metadata": {},
     "output_type": "execute_result"
    }
   ],
   "source": [
    "products[non_old_price].head(5)"
   ]
  },
  {
   "cell_type": "markdown",
   "metadata": {},
   "source": [
    "Ta sẽ loại bỏ dấu chấm để chuyển cột về dạng số nguyên."
   ]
  },
  {
   "cell_type": "code",
   "execution_count": 20,
   "metadata": {},
   "outputs": [],
   "source": [
    "# Hàm nhân giá trị của cột 'Giá' và 'Giá Thị Trường' với 100\n",
    "def convert_price(x):\n",
    "        return x * 100"
   ]
  },
  {
   "cell_type": "code",
   "execution_count": 21,
   "metadata": {},
   "outputs": [],
   "source": [
    "# replace các dấu chấm thành rỗng\n",
    "products['Giá'] = products['Giá'].replace(r'\\.' , '', regex=True)\n",
    "products['Giá Thị Trường'] = products['Giá Thị Trường'].replace(r'\\.' , '', regex=True)\n",
    "\n",
    "# Chuyển kiểu dữ liệu về int\n",
    "products['Giá Thị Trường'] = products['Giá Thị Trường'].astype(int)\n",
    "products['Giá'] = products['Giá'].astype(int)\n",
    "\n",
    "#apply hàm convert_price cho cột 'Giá' và 'Giá Thị Trường'\n",
    "\n",
    "products['Giá'] = products['Giá'].apply(convert_price)\n",
    "products['Giá Thị Trường'] = products['Giá Thị Trường'].apply(convert_price)"
   ]
  },
  {
   "cell_type": "markdown",
   "metadata": {},
   "source": [
    "Kiểm tra kết quả"
   ]
  },
  {
   "cell_type": "code",
   "execution_count": 22,
   "metadata": {},
   "outputs": [
    {
     "data": {
      "text/html": [
       "<div>\n",
       "<style scoped>\n",
       "    .dataframe tbody tr th:only-of-type {\n",
       "        vertical-align: middle;\n",
       "    }\n",
       "\n",
       "    .dataframe tbody tr th {\n",
       "        vertical-align: top;\n",
       "    }\n",
       "\n",
       "    .dataframe thead th {\n",
       "        text-align: right;\n",
       "    }\n",
       "</style>\n",
       "<table border=\"1\" class=\"dataframe\">\n",
       "  <thead>\n",
       "    <tr style=\"text-align: right;\">\n",
       "      <th></th>\n",
       "      <th>Giá</th>\n",
       "      <th>Giá Thị Trường</th>\n",
       "    </tr>\n",
       "  </thead>\n",
       "  <tbody>\n",
       "    <tr>\n",
       "      <th>0</th>\n",
       "      <td>61200</td>\n",
       "      <td>72000</td>\n",
       "    </tr>\n",
       "    <tr>\n",
       "      <th>1</th>\n",
       "      <td>119000</td>\n",
       "      <td>140000</td>\n",
       "    </tr>\n",
       "    <tr>\n",
       "      <th>2</th>\n",
       "      <td>742500</td>\n",
       "      <td>99000</td>\n",
       "    </tr>\n",
       "    <tr>\n",
       "      <th>3</th>\n",
       "      <td>60000</td>\n",
       "      <td>80000</td>\n",
       "    </tr>\n",
       "    <tr>\n",
       "      <th>4</th>\n",
       "      <td>60000</td>\n",
       "      <td>80000</td>\n",
       "    </tr>\n",
       "  </tbody>\n",
       "</table>\n",
       "</div>"
      ],
      "text/plain": [
       "      Giá  Giá Thị Trường\n",
       "0   61200           72000\n",
       "1  119000          140000\n",
       "2  742500           99000\n",
       "3   60000           80000\n",
       "4   60000           80000"
      ]
     },
     "execution_count": 22,
     "metadata": {},
     "output_type": "execute_result"
    }
   ],
   "source": [
    "products[['Giá' , 'Giá Thị Trường']].head(5)"
   ]
  },
  {
   "cell_type": "code",
   "execution_count": 23,
   "metadata": {},
   "outputs": [
    {
     "data": {
      "text/plain": [
       "Giá               int64\n",
       "Giá Thị Trường    int64\n",
       "dtype: object"
      ]
     },
     "execution_count": 23,
     "metadata": {},
     "output_type": "execute_result"
    }
   ],
   "source": [
    "products[['Giá' , 'Giá Thị Trường']].dtypes"
   ]
  },
  {
   "cell_type": "markdown",
   "metadata": {},
   "source": [
    "### Xử lý cột số sản phẩm đã bán"
   ]
  },
  {
   "cell_type": "code",
   "execution_count": 24,
   "metadata": {},
   "outputs": [
    {
     "data": {
      "text/html": [
       "<div>\n",
       "<style scoped>\n",
       "    .dataframe tbody tr th:only-of-type {\n",
       "        vertical-align: middle;\n",
       "    }\n",
       "\n",
       "    .dataframe tbody tr th {\n",
       "        vertical-align: top;\n",
       "    }\n",
       "\n",
       "    .dataframe thead th {\n",
       "        text-align: right;\n",
       "    }\n",
       "</style>\n",
       "<table border=\"1\" class=\"dataframe\">\n",
       "  <thead>\n",
       "    <tr style=\"text-align: right;\">\n",
       "      <th></th>\n",
       "      <th>Tên sản phẩm</th>\n",
       "      <th>Giá</th>\n",
       "      <th>Giá Thị Trường</th>\n",
       "      <th>Số sản phẩm đã bán</th>\n",
       "    </tr>\n",
       "  </thead>\n",
       "  <tbody>\n",
       "    <tr>\n",
       "      <th>15</th>\n",
       "      <td>Lược Sử Nước Việt Bằng Tranh - Viet Nam - A Br...</td>\n",
       "      <td>166600</td>\n",
       "      <td>196000</td>\n",
       "      <td>1.0k</td>\n",
       "    </tr>\n",
       "    <tr>\n",
       "      <th>52</th>\n",
       "      <td>Ngữ Văn 12 - Tập 2 (Chân Trời) (Chuẩn)</td>\n",
       "      <td>19000</td>\n",
       "      <td>19000</td>\n",
       "      <td>1.0k</td>\n",
       "    </tr>\n",
       "  </tbody>\n",
       "</table>\n",
       "</div>"
      ],
      "text/plain": [
       "                                         Tên sản phẩm     Giá  Giá Thị Trường  \\\n",
       "15  Lược Sử Nước Việt Bằng Tranh - Viet Nam - A Br...  166600          196000   \n",
       "52             Ngữ Văn 12 - Tập 2 (Chân Trời) (Chuẩn)   19000           19000   \n",
       "\n",
       "   Số sản phẩm đã bán  \n",
       "15               1.0k  \n",
       "52               1.0k  "
      ]
     },
     "execution_count": 24,
     "metadata": {},
     "output_type": "execute_result"
    }
   ],
   "source": [
    "sold_1k = products['Số sản phẩm đã bán'] == '1.0k'\n",
    "products[sold_1k][['Tên sản phẩm','Giá','Giá Thị Trường','Số sản phẩm đã bán']].head(2)"
   ]
  },
  {
   "cell_type": "code",
   "execution_count": 25,
   "metadata": {},
   "outputs": [
    {
     "data": {
      "text/html": [
       "<div>\n",
       "<style scoped>\n",
       "    .dataframe tbody tr th:only-of-type {\n",
       "        vertical-align: middle;\n",
       "    }\n",
       "\n",
       "    .dataframe tbody tr th {\n",
       "        vertical-align: top;\n",
       "    }\n",
       "\n",
       "    .dataframe thead th {\n",
       "        text-align: right;\n",
       "    }\n",
       "</style>\n",
       "<table border=\"1\" class=\"dataframe\">\n",
       "  <thead>\n",
       "    <tr style=\"text-align: right;\">\n",
       "      <th></th>\n",
       "      <th>Tên sản phẩm</th>\n",
       "      <th>Giá</th>\n",
       "      <th>Giá Thị Trường</th>\n",
       "      <th>Số sản phẩm đã bán</th>\n",
       "    </tr>\n",
       "  </thead>\n",
       "  <tbody>\n",
       "    <tr>\n",
       "      <th>0</th>\n",
       "      <td>Búp Sen Xanh (Tái Bản 2020)</td>\n",
       "      <td>61200</td>\n",
       "      <td>72000</td>\n",
       "      <td>10k+</td>\n",
       "    </tr>\n",
       "    <tr>\n",
       "      <th>311</th>\n",
       "      <td>Chia Sẻ Từ Trái Tim (Thích Pháp Hòa)</td>\n",
       "      <td>126000</td>\n",
       "      <td>168000</td>\n",
       "      <td>10k+</td>\n",
       "    </tr>\n",
       "  </tbody>\n",
       "</table>\n",
       "</div>"
      ],
      "text/plain": [
       "                             Tên sản phẩm     Giá  Giá Thị Trường  \\\n",
       "0             Búp Sen Xanh (Tái Bản 2020)   61200           72000   \n",
       "311  Chia Sẻ Từ Trái Tim (Thích Pháp Hòa)  126000          168000   \n",
       "\n",
       "    Số sản phẩm đã bán  \n",
       "0                 10k+  \n",
       "311               10k+  "
      ]
     },
     "execution_count": 25,
     "metadata": {},
     "output_type": "execute_result"
    }
   ],
   "source": [
    "sold_10k_plus =products['Số sản phẩm đã bán'] == '10k+'\n",
    "products[sold_10k_plus][['Tên sản phẩm','Giá','Giá Thị Trường','Số sản phẩm đã bán']].head(2)\n"
   ]
  },
  {
   "cell_type": "markdown",
   "metadata": {},
   "source": [
    "Cột sp đã bán có chứa 'k' được hiểu là 1000, ta sẽ xử lý nó về dạng số nguyên\n",
    "10k+ được hiểu là trên 10 nghìn cuốn sách. do không có số liệu cụ thể nên ta cũng sẽ nhân cho 1000 để có số liệu tương đối."
   ]
  },
  {
   "cell_type": "code",
   "execution_count": 26,
   "metadata": {},
   "outputs": [
    {
     "data": {
      "text/html": [
       "<div>\n",
       "<style scoped>\n",
       "    .dataframe tbody tr th:only-of-type {\n",
       "        vertical-align: middle;\n",
       "    }\n",
       "\n",
       "    .dataframe tbody tr th {\n",
       "        vertical-align: top;\n",
       "    }\n",
       "\n",
       "    .dataframe thead th {\n",
       "        text-align: right;\n",
       "    }\n",
       "</style>\n",
       "<table border=\"1\" class=\"dataframe\">\n",
       "  <thead>\n",
       "    <tr style=\"text-align: right;\">\n",
       "      <th></th>\n",
       "      <th>Số sản phẩm đã bán</th>\n",
       "      <th>Đánh Giá trung bình</th>\n",
       "    </tr>\n",
       "  </thead>\n",
       "  <tbody>\n",
       "    <tr>\n",
       "      <th>1114</th>\n",
       "      <td>NaN</td>\n",
       "      <td>0.0</td>\n",
       "    </tr>\n",
       "    <tr>\n",
       "      <th>1682</th>\n",
       "      <td>NaN</td>\n",
       "      <td>0.0</td>\n",
       "    </tr>\n",
       "    <tr>\n",
       "      <th>1395</th>\n",
       "      <td>NaN</td>\n",
       "      <td>0.0</td>\n",
       "    </tr>\n",
       "    <tr>\n",
       "      <th>1685</th>\n",
       "      <td>NaN</td>\n",
       "      <td>0.0</td>\n",
       "    </tr>\n",
       "    <tr>\n",
       "      <th>1460</th>\n",
       "      <td>NaN</td>\n",
       "      <td>0.0</td>\n",
       "    </tr>\n",
       "    <tr>\n",
       "      <th>1246</th>\n",
       "      <td>NaN</td>\n",
       "      <td>4.0</td>\n",
       "    </tr>\n",
       "    <tr>\n",
       "      <th>1495</th>\n",
       "      <td>NaN</td>\n",
       "      <td>0.0</td>\n",
       "    </tr>\n",
       "    <tr>\n",
       "      <th>1192</th>\n",
       "      <td>NaN</td>\n",
       "      <td>0.0</td>\n",
       "    </tr>\n",
       "    <tr>\n",
       "      <th>1280</th>\n",
       "      <td>NaN</td>\n",
       "      <td>0.0</td>\n",
       "    </tr>\n",
       "    <tr>\n",
       "      <th>1696</th>\n",
       "      <td>NaN</td>\n",
       "      <td>5.0</td>\n",
       "    </tr>\n",
       "  </tbody>\n",
       "</table>\n",
       "</div>"
      ],
      "text/plain": [
       "     Số sản phẩm đã bán  Đánh Giá trung bình\n",
       "1114                NaN                  0.0\n",
       "1682                NaN                  0.0\n",
       "1395                NaN                  0.0\n",
       "1685                NaN                  0.0\n",
       "1460                NaN                  0.0\n",
       "1246                NaN                  4.0\n",
       "1495                NaN                  0.0\n",
       "1192                NaN                  0.0\n",
       "1280                NaN                  0.0\n",
       "1696                NaN                  5.0"
      ]
     },
     "execution_count": 26,
     "metadata": {},
     "output_type": "execute_result"
    }
   ],
   "source": [
    "non_sol = products['Số sản phẩm đã bán'].isna()\n",
    "products[non_sol][['Số sản phẩm đã bán', 'Đánh Giá trung bình']].sample(10)"
   ]
  },
  {
   "cell_type": "markdown",
   "metadata": {},
   "source": [
    "Các row có sp đã bán bị nan có vẻ cũng không có đánh giá trung bình nên ta sẽ replace nan bằng 0"
   ]
  },
  {
   "cell_type": "code",
   "execution_count": 27,
   "metadata": {},
   "outputs": [],
   "source": [
    "products['Số sản phẩm đã bán'] = products['Số sản phẩm đã bán'].fillna(0)"
   ]
  },
  {
   "cell_type": "markdown",
   "metadata": {},
   "source": [
    "Kết quả\n"
   ]
  },
  {
   "cell_type": "code",
   "execution_count": 28,
   "metadata": {},
   "outputs": [
    {
     "data": {
      "text/html": [
       "<div>\n",
       "<style scoped>\n",
       "    .dataframe tbody tr th:only-of-type {\n",
       "        vertical-align: middle;\n",
       "    }\n",
       "\n",
       "    .dataframe tbody tr th {\n",
       "        vertical-align: top;\n",
       "    }\n",
       "\n",
       "    .dataframe thead th {\n",
       "        text-align: right;\n",
       "    }\n",
       "</style>\n",
       "<table border=\"1\" class=\"dataframe\">\n",
       "  <thead>\n",
       "    <tr style=\"text-align: right;\">\n",
       "      <th></th>\n",
       "      <th>Số sản phẩm đã bán</th>\n",
       "      <th>Đánh Giá trung bình</th>\n",
       "    </tr>\n",
       "  </thead>\n",
       "  <tbody>\n",
       "    <tr>\n",
       "      <th>1206</th>\n",
       "      <td>0</td>\n",
       "      <td>0.0</td>\n",
       "    </tr>\n",
       "    <tr>\n",
       "      <th>1482</th>\n",
       "      <td>0</td>\n",
       "      <td>0.0</td>\n",
       "    </tr>\n",
       "    <tr>\n",
       "      <th>1524</th>\n",
       "      <td>0</td>\n",
       "      <td>0.0</td>\n",
       "    </tr>\n",
       "    <tr>\n",
       "      <th>1560</th>\n",
       "      <td>0</td>\n",
       "      <td>0.0</td>\n",
       "    </tr>\n",
       "    <tr>\n",
       "      <th>1711</th>\n",
       "      <td>0</td>\n",
       "      <td>0.0</td>\n",
       "    </tr>\n",
       "    <tr>\n",
       "      <th>1297</th>\n",
       "      <td>0</td>\n",
       "      <td>0.0</td>\n",
       "    </tr>\n",
       "    <tr>\n",
       "      <th>1700</th>\n",
       "      <td>0</td>\n",
       "      <td>5.0</td>\n",
       "    </tr>\n",
       "    <tr>\n",
       "      <th>1190</th>\n",
       "      <td>0</td>\n",
       "      <td>0.0</td>\n",
       "    </tr>\n",
       "    <tr>\n",
       "      <th>1723</th>\n",
       "      <td>0</td>\n",
       "      <td>0.0</td>\n",
       "    </tr>\n",
       "    <tr>\n",
       "      <th>1698</th>\n",
       "      <td>0</td>\n",
       "      <td>0.0</td>\n",
       "    </tr>\n",
       "  </tbody>\n",
       "</table>\n",
       "</div>"
      ],
      "text/plain": [
       "     Số sản phẩm đã bán  Đánh Giá trung bình\n",
       "1206                  0                  0.0\n",
       "1482                  0                  0.0\n",
       "1524                  0                  0.0\n",
       "1560                  0                  0.0\n",
       "1711                  0                  0.0\n",
       "1297                  0                  0.0\n",
       "1700                  0                  5.0\n",
       "1190                  0                  0.0\n",
       "1723                  0                  0.0\n",
       "1698                  0                  0.0"
      ]
     },
     "execution_count": 28,
     "metadata": {},
     "output_type": "execute_result"
    }
   ],
   "source": [
    "products[non_sol][['Số sản phẩm đã bán', 'Đánh Giá trung bình']].sample(10)"
   ]
  },
  {
   "cell_type": "code",
   "execution_count": 29,
   "metadata": {},
   "outputs": [],
   "source": [
    "# hàm chuyển đổi giá trị số sản phẩm đã bán\n",
    "def convert_abbreviations(value):\n",
    "    if isinstance(value, str):\n",
    "        value = value.lower().strip()\n",
    "        # Xử lý các giá trị kèm theo ký tự\n",
    "        if value.endswith('k'):\n",
    "            # Lấy từ ký tự đầu tới ký tự áp chót\n",
    "            return float(value[:-1]) * 1000\n",
    "        elif value.endswith('k+'):\n",
    "            # Lấy từ ký tự đầu tới trước 2 ký tự cuối\n",
    "            return float(value[:-2]) * 1000\n",
    "        else:\n",
    "            return float(value)\n",
    "    return value\n",
    "\n",
    "# Áp dụng hàm cho cột Số sản phẩm đã bán\n",
    "products['Số sản phẩm đã bán'] = products['Số sản phẩm đã bán'].apply(convert_abbreviations)\n",
    "# Chuyển kiểu dữ liệu của cột thành kiểu số nguyên\n",
    "products['Số sản phẩm đã bán'] = products['Số sản phẩm đã bán'].astype(int)"
   ]
  },
  {
   "cell_type": "markdown",
   "metadata": {},
   "source": [
    "Kiểm tra kết quả sau khi chuyển đổi\n"
   ]
  },
  {
   "cell_type": "code",
   "execution_count": 30,
   "metadata": {},
   "outputs": [
    {
     "data": {
      "text/html": [
       "<div>\n",
       "<style scoped>\n",
       "    .dataframe tbody tr th:only-of-type {\n",
       "        vertical-align: middle;\n",
       "    }\n",
       "\n",
       "    .dataframe tbody tr th {\n",
       "        vertical-align: top;\n",
       "    }\n",
       "\n",
       "    .dataframe thead th {\n",
       "        text-align: right;\n",
       "    }\n",
       "</style>\n",
       "<table border=\"1\" class=\"dataframe\">\n",
       "  <thead>\n",
       "    <tr style=\"text-align: right;\">\n",
       "      <th></th>\n",
       "      <th>Tên sản phẩm</th>\n",
       "      <th>Giá</th>\n",
       "      <th>Giá Thị Trường</th>\n",
       "      <th>Số sản phẩm đã bán</th>\n",
       "    </tr>\n",
       "  </thead>\n",
       "  <tbody>\n",
       "    <tr>\n",
       "      <th>15</th>\n",
       "      <td>Lược Sử Nước Việt Bằng Tranh - Viet Nam - A Br...</td>\n",
       "      <td>166600</td>\n",
       "      <td>196000</td>\n",
       "      <td>1000</td>\n",
       "    </tr>\n",
       "    <tr>\n",
       "      <th>52</th>\n",
       "      <td>Ngữ Văn 12 - Tập 2 (Chân Trời) (Chuẩn)</td>\n",
       "      <td>19000</td>\n",
       "      <td>19000</td>\n",
       "      <td>1000</td>\n",
       "    </tr>\n",
       "  </tbody>\n",
       "</table>\n",
       "</div>"
      ],
      "text/plain": [
       "                                         Tên sản phẩm     Giá  Giá Thị Trường  \\\n",
       "15  Lược Sử Nước Việt Bằng Tranh - Viet Nam - A Br...  166600          196000   \n",
       "52             Ngữ Văn 12 - Tập 2 (Chân Trời) (Chuẩn)   19000           19000   \n",
       "\n",
       "    Số sản phẩm đã bán  \n",
       "15                1000  \n",
       "52                1000  "
      ]
     },
     "execution_count": 30,
     "metadata": {},
     "output_type": "execute_result"
    }
   ],
   "source": [
    "products[sold_1k][['Tên sản phẩm','Giá','Giá Thị Trường','Số sản phẩm đã bán']].head(2)"
   ]
  },
  {
   "cell_type": "code",
   "execution_count": 31,
   "metadata": {},
   "outputs": [
    {
     "data": {
      "text/html": [
       "<div>\n",
       "<style scoped>\n",
       "    .dataframe tbody tr th:only-of-type {\n",
       "        vertical-align: middle;\n",
       "    }\n",
       "\n",
       "    .dataframe tbody tr th {\n",
       "        vertical-align: top;\n",
       "    }\n",
       "\n",
       "    .dataframe thead th {\n",
       "        text-align: right;\n",
       "    }\n",
       "</style>\n",
       "<table border=\"1\" class=\"dataframe\">\n",
       "  <thead>\n",
       "    <tr style=\"text-align: right;\">\n",
       "      <th></th>\n",
       "      <th>Tên sản phẩm</th>\n",
       "      <th>Giá</th>\n",
       "      <th>Giá Thị Trường</th>\n",
       "      <th>Số sản phẩm đã bán</th>\n",
       "    </tr>\n",
       "  </thead>\n",
       "  <tbody>\n",
       "    <tr>\n",
       "      <th>0</th>\n",
       "      <td>Búp Sen Xanh (Tái Bản 2020)</td>\n",
       "      <td>61200</td>\n",
       "      <td>72000</td>\n",
       "      <td>10000</td>\n",
       "    </tr>\n",
       "    <tr>\n",
       "      <th>311</th>\n",
       "      <td>Chia Sẻ Từ Trái Tim (Thích Pháp Hòa)</td>\n",
       "      <td>126000</td>\n",
       "      <td>168000</td>\n",
       "      <td>10000</td>\n",
       "    </tr>\n",
       "  </tbody>\n",
       "</table>\n",
       "</div>"
      ],
      "text/plain": [
       "                             Tên sản phẩm     Giá  Giá Thị Trường  \\\n",
       "0             Búp Sen Xanh (Tái Bản 2020)   61200           72000   \n",
       "311  Chia Sẻ Từ Trái Tim (Thích Pháp Hòa)  126000          168000   \n",
       "\n",
       "     Số sản phẩm đã bán  \n",
       "0                 10000  \n",
       "311               10000  "
      ]
     },
     "execution_count": 31,
     "metadata": {},
     "output_type": "execute_result"
    }
   ],
   "source": [
    "products[sold_10k_plus][['Tên sản phẩm','Giá','Giá Thị Trường','Số sản phẩm đã bán']].head(2)"
   ]
  },
  {
   "cell_type": "markdown",
   "metadata": {},
   "source": [
    "### Features Engineering"
   ]
  },
  {
   "cell_type": "markdown",
   "metadata": {},
   "source": [
    "#### Tạo cluster cho cột sản phẩm đã bán\n",
    "Định nghĩa nhóm : \n",
    " - từ 0 đến 500 : 0\n",
    " - từ 500 đến 999 : 1\n",
    " - từ 1000 đến 4999 : 2\n",
    " - từ 5000 đến 1000 : 3"
   ]
  },
  {
   "cell_type": "code",
   "execution_count": 32,
   "metadata": {},
   "outputs": [],
   "source": [
    "def categorize_quantity(value):\n",
    "    if 0 <= value < 500:\n",
    "        return 0\n",
    "    elif 500 <= value < 1000:\n",
    "        return 1\n",
    "    elif 1000 <= value < 5000:\n",
    "        return 2\n",
    "    elif 5000 <= value:\n",
    "        return 3\n",
    "    else:\n",
    "        return None\n",
    "\n",
    "\n",
    "products['Loại doanh số sản phẩm'] = products['Số sản phẩm đã bán'].apply(categorize_quantity)\n",
    "products['Loại doanh số sản phẩm'] = products['Loại doanh số sản phẩm'].astype('category')"
   ]
  },
  {
   "cell_type": "markdown",
   "metadata": {},
   "source": [
    "Kết quả cột vừa tạo"
   ]
  },
  {
   "cell_type": "code",
   "execution_count": 33,
   "metadata": {},
   "outputs": [
    {
     "data": {
      "text/html": [
       "<div>\n",
       "<style scoped>\n",
       "    .dataframe tbody tr th:only-of-type {\n",
       "        vertical-align: middle;\n",
       "    }\n",
       "\n",
       "    .dataframe tbody tr th {\n",
       "        vertical-align: top;\n",
       "    }\n",
       "\n",
       "    .dataframe thead th {\n",
       "        text-align: right;\n",
       "    }\n",
       "</style>\n",
       "<table border=\"1\" class=\"dataframe\">\n",
       "  <thead>\n",
       "    <tr style=\"text-align: right;\">\n",
       "      <th></th>\n",
       "      <th>Tên sản phẩm</th>\n",
       "      <th>Giá</th>\n",
       "      <th>Số sản phẩm đã bán</th>\n",
       "      <th>Loại doanh số sản phẩm</th>\n",
       "    </tr>\n",
       "  </thead>\n",
       "  <tbody>\n",
       "    <tr>\n",
       "      <th>34</th>\n",
       "      <td>Mẹ Hỏi Bé Trả Lời 3-4 Tuổi (Tái Bản 2019)</td>\n",
       "      <td>25500</td>\n",
       "      <td>499</td>\n",
       "      <td>0</td>\n",
       "    </tr>\n",
       "    <tr>\n",
       "      <th>35</th>\n",
       "      <td>Hoàng Tử Bé (Tái Bản)</td>\n",
       "      <td>60000</td>\n",
       "      <td>485</td>\n",
       "      <td>0</td>\n",
       "    </tr>\n",
       "  </tbody>\n",
       "</table>\n",
       "</div>"
      ],
      "text/plain": [
       "                                 Tên sản phẩm    Giá  Số sản phẩm đã bán  \\\n",
       "34  Mẹ Hỏi Bé Trả Lời 3-4 Tuổi (Tái Bản 2019)  25500                 499   \n",
       "35                      Hoàng Tử Bé (Tái Bản)  60000                 485   \n",
       "\n",
       "   Loại doanh số sản phẩm  \n",
       "34                      0  \n",
       "35                      0  "
      ]
     },
     "execution_count": 33,
     "metadata": {},
     "output_type": "execute_result"
    }
   ],
   "source": [
    "products[products['Loại doanh số sản phẩm'] == 0][['Tên sản phẩm' , 'Giá' ,'Số sản phẩm đã bán', 'Loại doanh số sản phẩm']].head(2)"
   ]
  },
  {
   "cell_type": "code",
   "execution_count": 34,
   "metadata": {},
   "outputs": [
    {
     "data": {
      "text/html": [
       "<div>\n",
       "<style scoped>\n",
       "    .dataframe tbody tr th:only-of-type {\n",
       "        vertical-align: middle;\n",
       "    }\n",
       "\n",
       "    .dataframe tbody tr th {\n",
       "        vertical-align: top;\n",
       "    }\n",
       "\n",
       "    .dataframe thead th {\n",
       "        text-align: right;\n",
       "    }\n",
       "</style>\n",
       "<table border=\"1\" class=\"dataframe\">\n",
       "  <thead>\n",
       "    <tr style=\"text-align: right;\">\n",
       "      <th></th>\n",
       "      <th>Tên sản phẩm</th>\n",
       "      <th>Giá</th>\n",
       "      <th>Số sản phẩm đã bán</th>\n",
       "      <th>Loại doanh số sản phẩm</th>\n",
       "    </tr>\n",
       "  </thead>\n",
       "  <tbody>\n",
       "    <tr>\n",
       "      <th>16</th>\n",
       "      <td>Đất Rừng Phương Nam (Tái Bản)</td>\n",
       "      <td>607500</td>\n",
       "      <td>998</td>\n",
       "      <td>1</td>\n",
       "    </tr>\n",
       "    <tr>\n",
       "      <th>17</th>\n",
       "      <td>Những Câu Chuyện Tò Mò Của Bé - Con Có Thể Đán...</td>\n",
       "      <td>21000</td>\n",
       "      <td>986</td>\n",
       "      <td>1</td>\n",
       "    </tr>\n",
       "  </tbody>\n",
       "</table>\n",
       "</div>"
      ],
      "text/plain": [
       "                                         Tên sản phẩm     Giá  \\\n",
       "16                      Đất Rừng Phương Nam (Tái Bản)  607500   \n",
       "17  Những Câu Chuyện Tò Mò Của Bé - Con Có Thể Đán...   21000   \n",
       "\n",
       "    Số sản phẩm đã bán Loại doanh số sản phẩm  \n",
       "16                 998                      1  \n",
       "17                 986                      1  "
      ]
     },
     "execution_count": 34,
     "metadata": {},
     "output_type": "execute_result"
    }
   ],
   "source": [
    "products[products['Loại doanh số sản phẩm'] == 1][['Tên sản phẩm' , 'Giá' ,'Số sản phẩm đã bán', 'Loại doanh số sản phẩm']].head(2)\n"
   ]
  },
  {
   "cell_type": "code",
   "execution_count": 35,
   "metadata": {},
   "outputs": [
    {
     "data": {
      "text/html": [
       "<div>\n",
       "<style scoped>\n",
       "    .dataframe tbody tr th:only-of-type {\n",
       "        vertical-align: middle;\n",
       "    }\n",
       "\n",
       "    .dataframe tbody tr th {\n",
       "        vertical-align: top;\n",
       "    }\n",
       "\n",
       "    .dataframe thead th {\n",
       "        text-align: right;\n",
       "    }\n",
       "</style>\n",
       "<table border=\"1\" class=\"dataframe\">\n",
       "  <thead>\n",
       "    <tr style=\"text-align: right;\">\n",
       "      <th></th>\n",
       "      <th>Tên sản phẩm</th>\n",
       "      <th>Giá</th>\n",
       "      <th>Số sản phẩm đã bán</th>\n",
       "      <th>Loại doanh số sản phẩm</th>\n",
       "    </tr>\n",
       "  </thead>\n",
       "  <tbody>\n",
       "    <tr>\n",
       "      <th>2</th>\n",
       "      <td>100 Kỹ Năng Sinh Tồn</td>\n",
       "      <td>742500</td>\n",
       "      <td>2400</td>\n",
       "      <td>2</td>\n",
       "    </tr>\n",
       "    <tr>\n",
       "      <th>3</th>\n",
       "      <td>Tuổi Thơ Dữ Dội - Tập 1 (Tái Bản 2019)</td>\n",
       "      <td>60000</td>\n",
       "      <td>2000</td>\n",
       "      <td>2</td>\n",
       "    </tr>\n",
       "  </tbody>\n",
       "</table>\n",
       "</div>"
      ],
      "text/plain": [
       "                             Tên sản phẩm     Giá  Số sản phẩm đã bán  \\\n",
       "2                    100 Kỹ Năng Sinh Tồn  742500                2400   \n",
       "3  Tuổi Thơ Dữ Dội - Tập 1 (Tái Bản 2019)   60000                2000   \n",
       "\n",
       "  Loại doanh số sản phẩm  \n",
       "2                      2  \n",
       "3                      2  "
      ]
     },
     "execution_count": 35,
     "metadata": {},
     "output_type": "execute_result"
    }
   ],
   "source": [
    "products[products['Loại doanh số sản phẩm'] == 2][['Tên sản phẩm' , 'Giá' ,'Số sản phẩm đã bán', 'Loại doanh số sản phẩm']].head(2)\n"
   ]
  },
  {
   "cell_type": "code",
   "execution_count": 36,
   "metadata": {},
   "outputs": [
    {
     "data": {
      "text/html": [
       "<div>\n",
       "<style scoped>\n",
       "    .dataframe tbody tr th:only-of-type {\n",
       "        vertical-align: middle;\n",
       "    }\n",
       "\n",
       "    .dataframe tbody tr th {\n",
       "        vertical-align: top;\n",
       "    }\n",
       "\n",
       "    .dataframe thead th {\n",
       "        text-align: right;\n",
       "    }\n",
       "</style>\n",
       "<table border=\"1\" class=\"dataframe\">\n",
       "  <thead>\n",
       "    <tr style=\"text-align: right;\">\n",
       "      <th></th>\n",
       "      <th>Tên sản phẩm</th>\n",
       "      <th>Giá</th>\n",
       "      <th>Số sản phẩm đã bán</th>\n",
       "      <th>Loại doanh số sản phẩm</th>\n",
       "    </tr>\n",
       "  </thead>\n",
       "  <tbody>\n",
       "    <tr>\n",
       "      <th>0</th>\n",
       "      <td>Búp Sen Xanh (Tái Bản 2020)</td>\n",
       "      <td>61200</td>\n",
       "      <td>10000</td>\n",
       "      <td>3</td>\n",
       "    </tr>\n",
       "    <tr>\n",
       "      <th>1</th>\n",
       "      <td>Lược Sử Nước Việt Bằng Tranh (Tái Bản 2022)</td>\n",
       "      <td>119000</td>\n",
       "      <td>8000</td>\n",
       "      <td>3</td>\n",
       "    </tr>\n",
       "  </tbody>\n",
       "</table>\n",
       "</div>"
      ],
      "text/plain": [
       "                                  Tên sản phẩm     Giá  Số sản phẩm đã bán  \\\n",
       "0                  Búp Sen Xanh (Tái Bản 2020)   61200               10000   \n",
       "1  Lược Sử Nước Việt Bằng Tranh (Tái Bản 2022)  119000                8000   \n",
       "\n",
       "  Loại doanh số sản phẩm  \n",
       "0                      3  \n",
       "1                      3  "
      ]
     },
     "execution_count": 36,
     "metadata": {},
     "output_type": "execute_result"
    }
   ],
   "source": [
    "products[products['Loại doanh số sản phẩm'] == 3][['Tên sản phẩm' , 'Giá' ,'Số sản phẩm đã bán', 'Loại doanh số sản phẩm']].head(2)\n"
   ]
  },
  {
   "cell_type": "markdown",
   "metadata": {},
   "source": [
    "#### Tạo cột mới hiển thị phần trăm giảm"
   ]
  },
  {
   "cell_type": "code",
   "execution_count": 37,
   "metadata": {},
   "outputs": [],
   "source": [
    "# products['Phần trăm giảm'] = round((products['Giá Thị Trường'] - products['Giá']) / products['Giá Thị Trường'], 2)"
   ]
  },
  {
   "cell_type": "markdown",
   "metadata": {},
   "source": [
    "Kết quả "
   ]
  },
  {
   "cell_type": "code",
   "execution_count": 38,
   "metadata": {},
   "outputs": [],
   "source": [
    "# products[['Giá Thị Trường' , 'Giá', 'Phần trăm giảm']].head(10)"
   ]
  },
  {
   "cell_type": "markdown",
   "metadata": {},
   "source": [
    "### Xoá hàng bị trùng"
   ]
  },
  {
   "cell_type": "markdown",
   "metadata": {},
   "source": [
    "Ví dụ 1 dòng dữ liệu bị trùng"
   ]
  },
  {
   "cell_type": "code",
   "execution_count": 39,
   "metadata": {},
   "outputs": [
    {
     "data": {
      "text/html": [
       "<div>\n",
       "<style scoped>\n",
       "    .dataframe tbody tr th:only-of-type {\n",
       "        vertical-align: middle;\n",
       "    }\n",
       "\n",
       "    .dataframe tbody tr th {\n",
       "        vertical-align: top;\n",
       "    }\n",
       "\n",
       "    .dataframe thead th {\n",
       "        text-align: right;\n",
       "    }\n",
       "</style>\n",
       "<table border=\"1\" class=\"dataframe\">\n",
       "  <thead>\n",
       "    <tr style=\"text-align: right;\">\n",
       "      <th></th>\n",
       "      <th>Mã sản phẩm</th>\n",
       "      <th>Tên sản phẩm</th>\n",
       "      <th>Giá</th>\n",
       "      <th>Giá Thị Trường</th>\n",
       "      <th>Số sản phẩm đã bán</th>\n",
       "      <th>Nhà xuất bản</th>\n",
       "      <th>Tác giả</th>\n",
       "      <th>Số trang</th>\n",
       "      <th>Đánh Giá trung bình</th>\n",
       "      <th>Số lượt đánh giá</th>\n",
       "      <th>Tên danh mục c1</th>\n",
       "      <th>Tên danh mục c2</th>\n",
       "      <th>Loại doanh số sản phẩm</th>\n",
       "    </tr>\n",
       "  </thead>\n",
       "  <tbody>\n",
       "    <tr>\n",
       "      <th>65</th>\n",
       "      <td>3300000027210</td>\n",
       "      <td>Sách Giáo Khoa Bộ Lớp 6 - Chân Trời Sáng Tạo -...</td>\n",
       "      <td>187000</td>\n",
       "      <td>187000</td>\n",
       "      <td>824</td>\n",
       "      <td>Giáo Dục Việt Nam</td>\n",
       "      <td>Bộ Giáo Dục Và Đào Tạo</td>\n",
       "      <td>NaN</td>\n",
       "      <td>0.0</td>\n",
       "      <td>0</td>\n",
       "      <td>Sách Trong Nước</td>\n",
       "      <td>Giáo khoa - Tham khảo</td>\n",
       "      <td>1</td>\n",
       "    </tr>\n",
       "    <tr>\n",
       "      <th>69</th>\n",
       "      <td>3300000027210</td>\n",
       "      <td>Sách Giáo Khoa Bộ Lớp 6 - Chân Trời Sáng Tạo -...</td>\n",
       "      <td>187000</td>\n",
       "      <td>187000</td>\n",
       "      <td>824</td>\n",
       "      <td>Giáo Dục Việt Nam</td>\n",
       "      <td>Bộ Giáo Dục Và Đào Tạo</td>\n",
       "      <td>NaN</td>\n",
       "      <td>0.0</td>\n",
       "      <td>0</td>\n",
       "      <td>Sách Trong Nước</td>\n",
       "      <td>Giáo khoa - Tham khảo</td>\n",
       "      <td>1</td>\n",
       "    </tr>\n",
       "  </tbody>\n",
       "</table>\n",
       "</div>"
      ],
      "text/plain": [
       "      Mã sản phẩm                                       Tên sản phẩm     Giá  \\\n",
       "65  3300000027210  Sách Giáo Khoa Bộ Lớp 6 - Chân Trời Sáng Tạo -...  187000   \n",
       "69  3300000027210  Sách Giáo Khoa Bộ Lớp 6 - Chân Trời Sáng Tạo -...  187000   \n",
       "\n",
       "    Giá Thị Trường  Số sản phẩm đã bán       Nhà xuất bản  \\\n",
       "65          187000                 824  Giáo Dục Việt Nam   \n",
       "69          187000                 824  Giáo Dục Việt Nam   \n",
       "\n",
       "                   Tác giả Số trang  Đánh Giá trung bình  Số lượt đánh giá  \\\n",
       "65  Bộ Giáo Dục Và Đào Tạo      NaN                  0.0                 0   \n",
       "69  Bộ Giáo Dục Và Đào Tạo      NaN                  0.0                 0   \n",
       "\n",
       "    Tên danh mục c1        Tên danh mục c2 Loại doanh số sản phẩm  \n",
       "65  Sách Trong Nước  Giáo khoa - Tham khảo                      1  \n",
       "69  Sách Trong Nước  Giáo khoa - Tham khảo                      1  "
      ]
     },
     "execution_count": 39,
     "metadata": {},
     "output_type": "execute_result"
    }
   ],
   "source": [
    "products[products['Mã sản phẩm'] == '3300000027210']"
   ]
  },
  {
   "cell_type": "markdown",
   "metadata": {},
   "source": [
    "Tổng các dòng bị trùng"
   ]
  },
  {
   "cell_type": "code",
   "execution_count": 40,
   "metadata": {},
   "outputs": [
    {
     "name": "stdout",
     "output_type": "stream",
     "text": [
      "81\n"
     ]
    }
   ],
   "source": [
    "print(products.duplicated().sum())"
   ]
  },
  {
   "cell_type": "markdown",
   "metadata": {},
   "source": [
    "Tiến hành xoá dòng bị trùng, giữ lại dòng đầu tiên"
   ]
  },
  {
   "cell_type": "code",
   "execution_count": 41,
   "metadata": {},
   "outputs": [],
   "source": [
    "# Xóa các dòng trùng lặp, drop_duplicates() sẽ giữ lại dòng đầu tiên\n",
    "# Nếu muốn giữ lại dòng cuối cùng, thêm tham số keep='last'\n",
    "products = products.drop_duplicates()"
   ]
  },
  {
   "cell_type": "markdown",
   "metadata": {},
   "source": [
    "Kết quả"
   ]
  },
  {
   "cell_type": "code",
   "execution_count": 42,
   "metadata": {},
   "outputs": [
    {
     "data": {
      "text/plain": [
       "np.int64(0)"
      ]
     },
     "execution_count": 42,
     "metadata": {},
     "output_type": "execute_result"
    }
   ],
   "source": [
    "products.duplicated().sum()"
   ]
  },
  {
   "cell_type": "markdown",
   "metadata": {},
   "source": [
    "Sau khi drop thì dòng bị trùng trước đó chỉ còn 1 dòng"
   ]
  },
  {
   "cell_type": "code",
   "execution_count": 43,
   "metadata": {},
   "outputs": [
    {
     "data": {
      "text/html": [
       "<div>\n",
       "<style scoped>\n",
       "    .dataframe tbody tr th:only-of-type {\n",
       "        vertical-align: middle;\n",
       "    }\n",
       "\n",
       "    .dataframe tbody tr th {\n",
       "        vertical-align: top;\n",
       "    }\n",
       "\n",
       "    .dataframe thead th {\n",
       "        text-align: right;\n",
       "    }\n",
       "</style>\n",
       "<table border=\"1\" class=\"dataframe\">\n",
       "  <thead>\n",
       "    <tr style=\"text-align: right;\">\n",
       "      <th></th>\n",
       "      <th>Mã sản phẩm</th>\n",
       "      <th>Tên sản phẩm</th>\n",
       "      <th>Giá</th>\n",
       "      <th>Giá Thị Trường</th>\n",
       "      <th>Số sản phẩm đã bán</th>\n",
       "      <th>Nhà xuất bản</th>\n",
       "      <th>Tác giả</th>\n",
       "      <th>Số trang</th>\n",
       "      <th>Đánh Giá trung bình</th>\n",
       "      <th>Số lượt đánh giá</th>\n",
       "      <th>Tên danh mục c1</th>\n",
       "      <th>Tên danh mục c2</th>\n",
       "      <th>Loại doanh số sản phẩm</th>\n",
       "    </tr>\n",
       "  </thead>\n",
       "  <tbody>\n",
       "    <tr>\n",
       "      <th>65</th>\n",
       "      <td>3300000027210</td>\n",
       "      <td>Sách Giáo Khoa Bộ Lớp 6 - Chân Trời Sáng Tạo -...</td>\n",
       "      <td>187000</td>\n",
       "      <td>187000</td>\n",
       "      <td>824</td>\n",
       "      <td>Giáo Dục Việt Nam</td>\n",
       "      <td>Bộ Giáo Dục Và Đào Tạo</td>\n",
       "      <td>NaN</td>\n",
       "      <td>0.0</td>\n",
       "      <td>0</td>\n",
       "      <td>Sách Trong Nước</td>\n",
       "      <td>Giáo khoa - Tham khảo</td>\n",
       "      <td>1</td>\n",
       "    </tr>\n",
       "  </tbody>\n",
       "</table>\n",
       "</div>"
      ],
      "text/plain": [
       "      Mã sản phẩm                                       Tên sản phẩm     Giá  \\\n",
       "65  3300000027210  Sách Giáo Khoa Bộ Lớp 6 - Chân Trời Sáng Tạo -...  187000   \n",
       "\n",
       "    Giá Thị Trường  Số sản phẩm đã bán       Nhà xuất bản  \\\n",
       "65          187000                 824  Giáo Dục Việt Nam   \n",
       "\n",
       "                   Tác giả Số trang  Đánh Giá trung bình  Số lượt đánh giá  \\\n",
       "65  Bộ Giáo Dục Và Đào Tạo      NaN                  0.0                 0   \n",
       "\n",
       "    Tên danh mục c1        Tên danh mục c2 Loại doanh số sản phẩm  \n",
       "65  Sách Trong Nước  Giáo khoa - Tham khảo                      1  "
      ]
     },
     "execution_count": 43,
     "metadata": {},
     "output_type": "execute_result"
    }
   ],
   "source": [
    "products[products['Mã sản phẩm']=='3300000027210']"
   ]
  },
  {
   "cell_type": "markdown",
   "metadata": {},
   "source": [
    "Xuất ra file csv các file đã clean"
   ]
  },
  {
   "cell_type": "code",
   "execution_count": 44,
   "metadata": {},
   "outputs": [],
   "source": [
    "clean_path = Path(cleaned_path).mkdir(parents=True, exist_ok=True)\n",
    "products.to_csv(cleaned_path + 'products_cleaned.csv', index=False, encoding='utf-8-sig' )\n",
    "df_child_categories.to_csv(cleaned_path + 'child_categories_cleaned.csv', index=False, encoding='utf-8-sig')\n",
    "df_parent_categories.to_csv(cleaned_path + 'parent_categories_cleaned.csv', index=False, encoding='utf-8-sig')\n",
    "df_comments.to_csv(cleaned_path + 'comments_cleaned.csv', index=False, encoding='utf-8-sig')"
   ]
  }
 ],
 "metadata": {
  "kernelspec": {
   "display_name": "venv",
   "language": "python",
   "name": "python3"
  },
  "language_info": {
   "codemirror_mode": {
    "name": "ipython",
    "version": 3
   },
   "file_extension": ".py",
   "mimetype": "text/x-python",
   "name": "python",
   "nbconvert_exporter": "python",
   "pygments_lexer": "ipython3",
   "version": "3.12.5"
  }
 },
 "nbformat": 4,
 "nbformat_minor": 2
}
